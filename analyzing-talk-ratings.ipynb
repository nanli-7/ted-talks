{
 "cells": [
  {
   "cell_type": "code",
   "execution_count": 1,
   "metadata": {},
   "outputs": [],
   "source": [
    "import pandas"
   ]
  },
  {
   "cell_type": "code",
   "execution_count": 2,
   "metadata": {},
   "outputs": [],
   "source": [
    "ted = pandas.read_csv('ted_main.csv')"
   ]
  },
  {
   "cell_type": "code",
   "execution_count": 3,
   "metadata": {},
   "outputs": [
    {
     "data": {
      "text/plain": [
       "comments               int64\n",
       "description           object\n",
       "duration               int64\n",
       "event                 object\n",
       "film_date              int64\n",
       "languages              int64\n",
       "main_speaker          object\n",
       "name                  object\n",
       "num_speaker            int64\n",
       "published_date         int64\n",
       "ratings               object\n",
       "related_talks         object\n",
       "speaker_occupation    object\n",
       "tags                  object\n",
       "title                 object\n",
       "url                   object\n",
       "views                  int64\n",
       "dtype: object"
      ]
     },
     "execution_count": 3,
     "metadata": {},
     "output_type": "execute_result"
    }
   ],
   "source": [
    "ted.dtypes"
   ]
  },
  {
   "cell_type": "code",
   "execution_count": 4,
   "metadata": {},
   "outputs": [
    {
     "data": {
      "text/plain": [
       "0    [{'id': 7, 'name': 'Funny', 'count': 19645}, {...\n",
       "1    [{'id': 7, 'name': 'Funny', 'count': 544}, {'i...\n",
       "2    [{'id': 7, 'name': 'Funny', 'count': 964}, {'i...\n",
       "3    [{'id': 3, 'name': 'Courageous', 'count': 760}...\n",
       "4    [{'id': 9, 'name': 'Ingenious', 'count': 3202}...\n",
       "Name: ratings, dtype: object"
      ]
     },
     "execution_count": 4,
     "metadata": {},
     "output_type": "execute_result"
    }
   ],
   "source": [
    "ted.ratings.head()"
   ]
  },
  {
   "cell_type": "code",
   "execution_count": 5,
   "metadata": {},
   "outputs": [
    {
     "data": {
      "text/plain": [
       "str"
      ]
     },
     "execution_count": 5,
     "metadata": {},
     "output_type": "execute_result"
    }
   ],
   "source": [
    "type(ted.ratings[0])"
   ]
  },
  {
   "cell_type": "markdown",
   "metadata": {},
   "source": [
    "* notice that data type of 'ratings' data is string not list, we shall convert them into list type first"
   ]
  },
  {
   "cell_type": "markdown",
   "metadata": {},
   "source": [
    "## 1. Converting and unpacking the rating data"
   ]
  },
  {
   "cell_type": "code",
   "execution_count": 6,
   "metadata": {},
   "outputs": [],
   "source": [
    "import ast"
   ]
  },
  {
   "cell_type": "code",
   "execution_count": 7,
   "metadata": {},
   "outputs": [
    {
     "data": {
      "text/plain": [
       "[{'id': 7, 'name': 'Funny', 'count': 19645},\n",
       " {'id': 1, 'name': 'Beautiful', 'count': 4573},\n",
       " {'id': 9, 'name': 'Ingenious', 'count': 6073},\n",
       " {'id': 3, 'name': 'Courageous', 'count': 3253},\n",
       " {'id': 11, 'name': 'Longwinded', 'count': 387},\n",
       " {'id': 2, 'name': 'Confusing', 'count': 242},\n",
       " {'id': 8, 'name': 'Informative', 'count': 7346},\n",
       " {'id': 22, 'name': 'Fascinating', 'count': 10581},\n",
       " {'id': 21, 'name': 'Unconvincing', 'count': 300},\n",
       " {'id': 24, 'name': 'Persuasive', 'count': 10704},\n",
       " {'id': 23, 'name': 'Jaw-dropping', 'count': 4439},\n",
       " {'id': 25, 'name': 'OK', 'count': 1174},\n",
       " {'id': 26, 'name': 'Obnoxious', 'count': 209},\n",
       " {'id': 10, 'name': 'Inspiring', 'count': 24924}]"
      ]
     },
     "execution_count": 7,
     "metadata": {},
     "output_type": "execute_result"
    }
   ],
   "source": [
    "# literal_eval() allows you to evaluate a string containing a Python literal or container\n",
    "# unpack the ratings data for the first talk\n",
    "ast.literal_eval(ted.ratings[0])"
   ]
  },
  {
   "cell_type": "code",
   "execution_count": 8,
   "metadata": {},
   "outputs": [
    {
     "data": {
      "text/plain": [
       "list"
      ]
     },
     "execution_count": 8,
     "metadata": {},
     "output_type": "execute_result"
    }
   ],
   "source": [
    "# now we have a list (of dictionaries)\n",
    "type(ast.literal_eval(ted.ratings[0]))"
   ]
  },
  {
   "cell_type": "code",
   "execution_count": 9,
   "metadata": {},
   "outputs": [],
   "source": [
    "# define a function to convert an element in the ratings Series from string to list\n",
    "def str_to_list(ratings_str):\n",
    "    return ast.literal_eval(ratings_str)"
   ]
  },
  {
   "cell_type": "code",
   "execution_count": 10,
   "metadata": {},
   "outputs": [],
   "source": [
    "# create new colunm and store converted rating data \n",
    "ted['ratings_list'] = ted.ratings.apply(lambda x: ast.literal_eval(x))\n"
   ]
  },
  {
   "cell_type": "code",
   "execution_count": 11,
   "metadata": {},
   "outputs": [
    {
     "data": {
      "text/plain": [
       "0    [{'id': 7, 'name': 'Funny', 'count': 19645}, {...\n",
       "1    [{'id': 7, 'name': 'Funny', 'count': 544}, {'i...\n",
       "2    [{'id': 7, 'name': 'Funny', 'count': 964}, {'i...\n",
       "3    [{'id': 3, 'name': 'Courageous', 'count': 760}...\n",
       "4    [{'id': 9, 'name': 'Ingenious', 'count': 3202}...\n",
       "Name: ratings_list, dtype: object"
      ]
     },
     "execution_count": 11,
     "metadata": {},
     "output_type": "execute_result"
    }
   ],
   "source": [
    "# check the result \n",
    "ted.ratings_list.head()"
   ]
  },
  {
   "cell_type": "code",
   "execution_count": 12,
   "metadata": {},
   "outputs": [
    {
     "data": {
      "text/plain": [
       "list"
      ]
     },
     "execution_count": 12,
     "metadata": {},
     "output_type": "execute_result"
    }
   ],
   "source": [
    "# check the data type\n",
    "type(ted.ratings_list[0])"
   ]
  },
  {
   "cell_type": "markdown",
   "metadata": {},
   "source": [
    "## 2. Counting the total number of ratings received by each talk\n"
   ]
  },
  {
   "cell_type": "code",
   "execution_count": 13,
   "metadata": {},
   "outputs": [
    {
     "data": {
      "text/plain": [
       "[{'id': 7, 'name': 'Funny', 'count': 19645},\n",
       " {'id': 1, 'name': 'Beautiful', 'count': 4573},\n",
       " {'id': 9, 'name': 'Ingenious', 'count': 6073},\n",
       " {'id': 3, 'name': 'Courageous', 'count': 3253},\n",
       " {'id': 11, 'name': 'Longwinded', 'count': 387},\n",
       " {'id': 2, 'name': 'Confusing', 'count': 242},\n",
       " {'id': 8, 'name': 'Informative', 'count': 7346},\n",
       " {'id': 22, 'name': 'Fascinating', 'count': 10581},\n",
       " {'id': 21, 'name': 'Unconvincing', 'count': 300},\n",
       " {'id': 24, 'name': 'Persuasive', 'count': 10704},\n",
       " {'id': 23, 'name': 'Jaw-dropping', 'count': 4439},\n",
       " {'id': 25, 'name': 'OK', 'count': 1174},\n",
       " {'id': 26, 'name': 'Obnoxious', 'count': 209},\n",
       " {'id': 10, 'name': 'Inspiring', 'count': 24924}]"
      ]
     },
     "execution_count": 13,
     "metadata": {},
     "output_type": "execute_result"
    }
   ],
   "source": [
    "# expected result (for each talk) is sum of count\n",
    "ted.ratings_list[0]"
   ]
  },
  {
   "cell_type": "code",
   "execution_count": 14,
   "metadata": {},
   "outputs": [],
   "source": [
    "# build a function to get the sum of count\n",
    "def get_num_ratings(list_of_dicts):\n",
    "    num = 0\n",
    "    for d in list_of_dicts:\n",
    "        num = num + d['count']\n",
    "    return num"
   ]
  },
  {
   "cell_type": "code",
   "execution_count": 15,
   "metadata": {},
   "outputs": [
    {
     "data": {
      "text/plain": [
       "93850"
      ]
     },
     "execution_count": 15,
     "metadata": {},
     "output_type": "execute_result"
    }
   ],
   "source": [
    "# apply function to the first record  \n",
    "get_num_ratings(ted.ratings_list[0])"
   ]
  },
  {
   "cell_type": "code",
   "execution_count": 16,
   "metadata": {},
   "outputs": [
    {
     "data": {
      "text/plain": [
       "93850"
      ]
     },
     "execution_count": 16,
     "metadata": {},
     "output_type": "execute_result"
    }
   ],
   "source": [
    "# another alternative is to use pd.DataFrame()\n",
    "pandas.DataFrame(ted.ratings_list[0])['count'].sum()"
   ]
  },
  {
   "cell_type": "code",
   "execution_count": 17,
   "metadata": {},
   "outputs": [],
   "source": [
    "# use lambda to apply this method\n",
    "ted['num_ratings'] = ted.ratings_list.apply(lambda x: get_num_ratings(x))\n"
   ]
  },
  {
   "cell_type": "code",
   "execution_count": 18,
   "metadata": {},
   "outputs": [
    {
     "data": {
      "text/plain": [
       "0    93850\n",
       "1     2936\n",
       "2     2824\n",
       "3     3728\n",
       "4    25620\n",
       "Name: num_ratings, dtype: int64"
      ]
     },
     "execution_count": 18,
     "metadata": {},
     "output_type": "execute_result"
    }
   ],
   "source": [
    "# check the result\n",
    "ted.num_ratings.head()"
   ]
  },
  {
   "cell_type": "code",
   "execution_count": 19,
   "metadata": {},
   "outputs": [
    {
     "data": {
      "text/plain": [
       "count     2550.000000\n",
       "mean      2436.408235\n",
       "std       4226.795631\n",
       "min         68.000000\n",
       "25%        870.750000\n",
       "50%       1452.500000\n",
       "75%       2506.750000\n",
       "max      93850.000000\n",
       "Name: num_ratings, dtype: float64"
      ]
     },
     "execution_count": 19,
     "metadata": {},
     "output_type": "execute_result"
    }
   ],
   "source": [
    "ted.num_ratings.describe()"
   ]
  },
  {
   "cell_type": "markdown",
   "metadata": {},
   "source": [
    "### * for each talk, calculate the average number of ratings it received per day since it was published\n"
   ]
  },
  {
   "cell_type": "code",
   "execution_count": 20,
   "metadata": {},
   "outputs": [
    {
     "data": {
      "text/plain": [
       "0    1151367060\n",
       "1    1151367060\n",
       "2    1151367060\n",
       "3    1151367060\n",
       "4    1151440680\n",
       "Name: published_date, dtype: int64"
      ]
     },
     "execution_count": 20,
     "metadata": {},
     "output_type": "execute_result"
    }
   ],
   "source": [
    "ted.published_date.head()"
   ]
  },
  {
   "cell_type": "code",
   "execution_count": 21,
   "metadata": {},
   "outputs": [],
   "source": [
    "# dataset documentation for film_date says \"Unix timestamp of the filming\" , convert them into datetime format\n",
    "ted['publish_datetime'] = pandas.to_datetime(ted.published_date, unit='s')\n"
   ]
  },
  {
   "cell_type": "code",
   "execution_count": 22,
   "metadata": {},
   "outputs": [
    {
     "data": {
      "text/plain": [
       "0   2006-06-27 00:11:00\n",
       "1   2006-06-27 00:11:00\n",
       "2   2006-06-27 00:11:00\n",
       "3   2006-06-27 00:11:00\n",
       "4   2006-06-27 20:38:00\n",
       "Name: publish_datetime, dtype: datetime64[ns]"
      ]
     },
     "execution_count": 22,
     "metadata": {},
     "output_type": "execute_result"
    }
   ],
   "source": [
    "# check the result\n",
    "ted.publish_datetime.head()"
   ]
  },
  {
   "cell_type": "code",
   "execution_count": 23,
   "metadata": {},
   "outputs": [
    {
     "data": {
      "text/plain": [
       "Timestamp('2017-09-23 15:00:22')"
      ]
     },
     "execution_count": 23,
     "metadata": {},
     "output_type": "execute_result"
    }
   ],
   "source": [
    "# check the lastest publishing time, use the day after as the ending timeframe\n",
    "\n",
    "end_datetime =ted.publish_datetime.max() + pandas.Timedelta(days=1)\n",
    "end_datetime"
   ]
  },
  {
   "cell_type": "code",
   "execution_count": 24,
   "metadata": {},
   "outputs": [
    {
     "data": {
      "text/plain": [
       "Timedelta('4106 days 14:49:22')"
      ]
     },
     "execution_count": 24,
     "metadata": {},
     "output_type": "execute_result"
    }
   ],
   "source": [
    "#check the duration of the first entry\n",
    "end_datetime - ted.publish_datetime[0]"
   ]
  },
  {
   "cell_type": "code",
   "execution_count": 25,
   "metadata": {},
   "outputs": [],
   "source": [
    "# calculat the duration in days since its publishing time\n",
    "ted['duration_days'] = ted.publish_datetime.apply(lambda x: end_datetime - x).dt.days"
   ]
  },
  {
   "cell_type": "code",
   "execution_count": 26,
   "metadata": {},
   "outputs": [
    {
     "data": {
      "text/plain": [
       "count    2550.000000\n",
       "mean     1881.950980\n",
       "std      1095.445471\n",
       "min         1.000000\n",
       "25%       956.750000\n",
       "50%      1912.500000\n",
       "75%      2750.500000\n",
       "max      4106.000000\n",
       "Name: duration_days, dtype: float64"
      ]
     },
     "execution_count": 26,
     "metadata": {},
     "output_type": "execute_result"
    }
   ],
   "source": [
    "ted.duration_days.describe()"
   ]
  },
  {
   "cell_type": "code",
   "execution_count": 27,
   "metadata": {},
   "outputs": [],
   "source": [
    "# average number of ratings it received per day \n",
    "ted['avg_num_ratings_per_day'] = ted['num_ratings'] / ted['duration_days']"
   ]
  },
  {
   "cell_type": "code",
   "execution_count": 28,
   "metadata": {},
   "outputs": [
    {
     "data": {
      "text/plain": [
       "count    2550.000000\n",
       "mean        2.810130\n",
       "std        13.590593\n",
       "min         0.054843\n",
       "25%         0.508753\n",
       "50%         1.028502\n",
       "75%         2.290546\n",
       "max       583.000000\n",
       "Name: avg_num_ratings_per_day, dtype: float64"
      ]
     },
     "execution_count": 28,
     "metadata": {},
     "output_type": "execute_result"
    }
   ],
   "source": [
    "# check the result\n",
    "ted.avg_num_ratings_per_day.describe()"
   ]
  },
  {
   "cell_type": "markdown",
   "metadata": {},
   "source": [
    "## 3. Which occupations deliver the funniest TED talks on average?¶\n"
   ]
  },
  {
   "cell_type": "markdown",
   "metadata": {},
   "source": [
    "### * __Count the number of funny ratings¶__\n"
   ]
  },
  {
   "cell_type": "code",
   "execution_count": 29,
   "metadata": {},
   "outputs": [
    {
     "data": {
      "text/plain": [
       "True    2550\n",
       "Name: ratings, dtype: int64"
      ]
     },
     "execution_count": 29,
     "metadata": {},
     "output_type": "execute_result"
    }
   ],
   "source": [
    "# check ratings (not ratings_list) to see if \"Funny\" is always a rating type\n",
    "ted.ratings.str.contains('Funny').value_counts()"
   ]
  },
  {
   "cell_type": "code",
   "execution_count": 30,
   "metadata": {},
   "outputs": [],
   "source": [
    "# write a function to count the number of funny ratings\n",
    "def get_funny_ratings(list_of_dicts):\n",
    "    for d in list_of_dicts:\n",
    "        if d['name'] == 'Funny':\n",
    "            return d['count']"
   ]
  },
  {
   "cell_type": "code",
   "execution_count": 31,
   "metadata": {},
   "outputs": [
    {
     "data": {
      "text/plain": [
       "0    19645\n",
       "1      544\n",
       "2      964\n",
       "3       59\n",
       "4     1390\n",
       "Name: funny_ratings, dtype: int64"
      ]
     },
     "execution_count": 31,
     "metadata": {},
     "output_type": "execute_result"
    }
   ],
   "source": [
    "# apply it to every element in the Series\n",
    "ted['funny_ratings'] = ted.ratings_list.apply(get_funny_ratings)\n",
    "ted.funny_ratings.head()"
   ]
  },
  {
   "cell_type": "code",
   "execution_count": 32,
   "metadata": {},
   "outputs": [
    {
     "data": {
      "text/plain": [
       "0"
      ]
     },
     "execution_count": 32,
     "metadata": {},
     "output_type": "execute_result"
    }
   ],
   "source": [
    "# check for missing values\n",
    "ted.funny_ratings.isna().sum()"
   ]
  },
  {
   "cell_type": "markdown",
   "metadata": {},
   "source": [
    "### * Calculate the percentage of ratings that are funny"
   ]
  },
  {
   "cell_type": "code",
   "execution_count": 33,
   "metadata": {},
   "outputs": [],
   "source": [
    "ted['funny_rate'] = ted.funny_ratings / ted.num_ratings\n"
   ]
  },
  {
   "cell_type": "code",
   "execution_count": 34,
   "metadata": {},
   "outputs": [
    {
     "data": {
      "text/plain": [
       "1849                       Science humorist\n",
       "337                                Comedian\n",
       "124     Performance poet, multimedia artist\n",
       "315                                  Expert\n",
       "1168             Social energy entrepreneur\n",
       "1468                          Ornithologist\n",
       "595                  Comedian, voice artist\n",
       "1534                         Cartoon editor\n",
       "97                                 Satirist\n",
       "2297                          Actor, writer\n",
       "568                                Comedian\n",
       "675                          Data scientist\n",
       "21                     Humorist, web artist\n",
       "194                                Jugglers\n",
       "2273                    Comedian and writer\n",
       "2114                    Comedian and writer\n",
       "173                                Investor\n",
       "747                                Comedian\n",
       "1398                               Comedian\n",
       "685             Actor, comedian, playwright\n",
       "Name: speaker_occupation, dtype: object"
      ]
     },
     "execution_count": 34,
     "metadata": {},
     "output_type": "execute_result"
    }
   ],
   "source": [
    "# examining the occupations of the funniest talks\n",
    "ted.sort_values('funny_rate').speaker_occupation.tail(20)"
   ]
  },
  {
   "cell_type": "code",
   "execution_count": 35,
   "metadata": {},
   "outputs": [
    {
     "data": {
      "text/plain": [
       "2549               Game designer\n",
       "1612                   Biologist\n",
       "612                     Sculptor\n",
       "998               Penguin expert\n",
       "593                     Engineer\n",
       "284               Space activist\n",
       "1041         Biomedical engineer\n",
       "1618      Spinal cord researcher\n",
       "2132    Computational geneticist\n",
       "442                     Sculptor\n",
       "426              Author, thinker\n",
       "458                     Educator\n",
       "2437      Environmental engineer\n",
       "1491             Photojournalist\n",
       "1893     Forensic anthropologist\n",
       "783             Marine biologist\n",
       "195                    Kenyan MP\n",
       "772             HIV/AIDS fighter\n",
       "788            Building activist\n",
       "936                Neuroengineer\n",
       "Name: speaker_occupation, dtype: object"
      ]
     },
     "execution_count": 35,
     "metadata": {},
     "output_type": "execute_result"
    }
   ],
   "source": [
    "# examine the occupations of the least funny talks\n",
    "ted.sort_values('funny_rate').speaker_occupation.head(20)"
   ]
  },
  {
   "cell_type": "markdown",
   "metadata": {},
   "source": [
    "### * Analyze the funny rate by occupation"
   ]
  },
  {
   "cell_type": "code",
   "execution_count": 36,
   "metadata": {},
   "outputs": [
    {
     "data": {
      "text/plain": [
       "speaker_occupation\n",
       "Comedian                       0.512457\n",
       "Actor, writer                  0.515152\n",
       "Actor, comedian, playwright    0.558107\n",
       "Jugglers                       0.566828\n",
       "Comedian and writer            0.602085\n",
       "Name: funny_rate, dtype: float64"
      ]
     },
     "execution_count": 36,
     "metadata": {},
     "output_type": "execute_result"
    }
   ],
   "source": [
    "# calculate the mean funny rate for each occupation\n",
    "ted.groupby('speaker_occupation').funny_rate.mean().sort_values().tail()"
   ]
  },
  {
   "cell_type": "code",
   "execution_count": 37,
   "metadata": {},
   "outputs": [
    {
     "data": {
      "text/plain": [
       "count       2544\n",
       "unique      1458\n",
       "top       Writer\n",
       "freq          45\n",
       "Name: speaker_occupation, dtype: object"
      ]
     },
     "execution_count": 37,
     "metadata": {},
     "output_type": "execute_result"
    }
   ],
   "source": [
    "# however, most of the occupations have a sample size of 1\n",
    "ted.speaker_occupation.describe()"
   ]
  },
  {
   "cell_type": "markdown",
   "metadata": {},
   "source": [
    "### * Focus on occupations that are well-represented in the data¶"
   ]
  },
  {
   "cell_type": "code",
   "execution_count": 38,
   "metadata": {},
   "outputs": [],
   "source": [
    "# value_counts() outputs a pandas Series, thus we can use pandas to manipulate the output\n",
    "occupation_counts = ted.speaker_occupation.value_counts()"
   ]
  },
  {
   "cell_type": "code",
   "execution_count": 39,
   "metadata": {},
   "outputs": [
    {
     "data": {
      "text/plain": [
       "Writer                                        45\n",
       "Artist                                        34\n",
       "Designer                                      34\n",
       "Journalist                                    33\n",
       "Entrepreneur                                  31\n",
       "Architect                                     30\n",
       "Inventor                                      27\n",
       "Psychologist                                  26\n",
       "Photographer                                  25\n",
       "Filmmaker                                     21\n",
       "Educator                                      20\n",
       "Author                                        20\n",
       "Neuroscientist                                20\n",
       "Economist                                     20\n",
       "Roboticist                                    16\n",
       "Philosopher                                   16\n",
       "Biologist                                     15\n",
       "Physicist                                     14\n",
       "Marine biologist                              11\n",
       "Musician                                      11\n",
       "Technologist                                  10\n",
       "Activist                                      10\n",
       "Global health expert; data visionary          10\n",
       "Singer/songwriter                              9\n",
       "Philanthropist                                 9\n",
       "Behavioral economist                           9\n",
       "Astronomer                                     9\n",
       "Historian                                      9\n",
       "Poet                                           9\n",
       "Graphic designer                               9\n",
       "                                              ..\n",
       "Techno-illusionist                             6\n",
       "Photojournalist                                6\n",
       "Singer-songwriter                              6\n",
       "Reporter                                       6\n",
       "Legal activist                                 6\n",
       "Performance poet, multimedia artist            6\n",
       "Social entrepreneur                            6\n",
       "Evolutionary biologist                         6\n",
       "Comedian                                       6\n",
       "Writer, activist                               6\n",
       "Climate advocate                               6\n",
       "Social Media Theorist                          5\n",
       "Game designer                                  5\n",
       "Science writer                                 5\n",
       "Environmentalist, futurist                     5\n",
       "Paleontologist                                 5\n",
       "Musician, activist                             5\n",
       "Producer                                       5\n",
       "Sound consultant                               5\n",
       "Cartoonist                                     5\n",
       "Data scientist                                 5\n",
       "Physician                                      5\n",
       "Investor and advocate for moral leadership     5\n",
       "Chemist                                        5\n",
       "Violinist                                      5\n",
       "Researcher                                     5\n",
       "Chef                                           5\n",
       "Tech visionary                                 5\n",
       "Surgeon                                        5\n",
       "Sculptor                                       5\n",
       "Name: speaker_occupation, Length: 68, dtype: int64"
      ]
     },
     "execution_count": 39,
     "metadata": {},
     "output_type": "execute_result"
    }
   ],
   "source": [
    "# show occupations which appear at least 5 times\n",
    "occupation_counts[occupation_counts >= 5]"
   ]
  },
  {
   "cell_type": "code",
   "execution_count": 40,
   "metadata": {},
   "outputs": [
    {
     "data": {
      "text/plain": [
       "Index(['Writer', 'Artist', 'Designer', 'Journalist', 'Entrepreneur',\n",
       "       'Architect', 'Inventor', 'Psychologist', 'Photographer', 'Filmmaker',\n",
       "       'Educator', 'Author', 'Neuroscientist', 'Economist', 'Roboticist',\n",
       "       'Philosopher', 'Biologist', 'Physicist', 'Marine biologist', 'Musician',\n",
       "       'Technologist', 'Activist', 'Global health expert; data visionary',\n",
       "       'Singer/songwriter', 'Philanthropist', 'Behavioral economist',\n",
       "       'Astronomer', 'Historian', 'Poet', 'Graphic designer', 'Oceanographer',\n",
       "       'Computer scientist', 'Engineer', 'Futurist', 'Novelist',\n",
       "       'Social psychologist', 'Astrophysicist', 'Mathematician',\n",
       "       'Techno-illusionist', 'Photojournalist', 'Singer-songwriter',\n",
       "       'Reporter', 'Legal activist', 'Performance poet, multimedia artist',\n",
       "       'Social entrepreneur', 'Evolutionary biologist', 'Comedian',\n",
       "       'Writer, activist', 'Climate advocate', 'Social Media Theorist',\n",
       "       'Game designer', 'Science writer', 'Environmentalist, futurist',\n",
       "       'Paleontologist', 'Musician, activist', 'Producer', 'Sound consultant',\n",
       "       'Cartoonist', 'Data scientist', 'Physician',\n",
       "       'Investor and advocate for moral leadership', 'Chemist', 'Violinist',\n",
       "       'Researcher', 'Chef', 'Tech visionary', 'Surgeon', 'Sculptor'],\n",
       "      dtype='object')"
      ]
     },
     "execution_count": 40,
     "metadata": {},
     "output_type": "execute_result"
    }
   ],
   "source": [
    "\n",
    "# save the index of this Series\n",
    "top_occupations = occupation_counts[occupation_counts >= 5].index\n",
    "top_occupations"
   ]
  },
  {
   "cell_type": "markdown",
   "metadata": {},
   "source": [
    "### * Re-analyze the funny rate by occupation (for top occupations only)"
   ]
  },
  {
   "cell_type": "code",
   "execution_count": 41,
   "metadata": {},
   "outputs": [
    {
     "data": {
      "text/plain": [
       "(786, 24)"
      ]
     },
     "execution_count": 41,
     "metadata": {},
     "output_type": "execute_result"
    }
   ],
   "source": [
    "# filter DataFrame to include only those occupations\n",
    "ted_top_occupations = ted[ted.speaker_occupation.isin(top_occupations)]\n",
    "ted_top_occupations.shape"
   ]
  },
  {
   "cell_type": "code",
   "execution_count": 42,
   "metadata": {},
   "outputs": [
    {
     "data": {
      "text/plain": [
       "speaker_occupation\n",
       "Global health expert; data visionary    0.090306\n",
       "Poet                                    0.107398\n",
       "Graphic designer                        0.135718\n",
       "Techno-illusionist                      0.152171\n",
       "Cartoonist                              0.162120\n",
       "Data scientist                          0.184076\n",
       "Producer                                0.202531\n",
       "Singer/songwriter                       0.252205\n",
       "Performance poet, multimedia artist     0.306468\n",
       "Comedian                                0.512457\n",
       "Name: funny_rate, dtype: float64"
      ]
     },
     "execution_count": 42,
     "metadata": {},
     "output_type": "execute_result"
    }
   ],
   "source": [
    "# redo the previous groupby\n",
    "ted_top_occupations.groupby('speaker_occupation').funny_rate.mean().sort_values().tail(10)"
   ]
  },
  {
   "cell_type": "markdown",
   "metadata": {},
   "source": [
    "### * Extra: for each talk, calculate the most frequent rating\n"
   ]
  },
  {
   "cell_type": "code",
   "execution_count": 43,
   "metadata": {},
   "outputs": [],
   "source": [
    "# write a function to return tag name with max rating counts\n",
    "def get_freq_ratings(list_of_dicts):\n",
    "    max_counts = 0\n",
    "    tag = ''\n",
    "    for d in list_of_dicts:\n",
    "        if d['count'] > max_counts:\n",
    "            max_counts = d['count']\n",
    "            tag = d['name']\n",
    "    return tag"
   ]
  },
  {
   "cell_type": "code",
   "execution_count": 44,
   "metadata": {},
   "outputs": [
    {
     "data": {
      "text/plain": [
       "'Inspiring'"
      ]
     },
     "execution_count": 44,
     "metadata": {},
     "output_type": "execute_result"
    }
   ],
   "source": [
    "get_freq_ratings(ted.ratings_list[0])"
   ]
  },
  {
   "cell_type": "code",
   "execution_count": 45,
   "metadata": {},
   "outputs": [],
   "source": [
    "ted['most_freq_rating'] = ted.ratings_list.apply(lambda x: get_freq_ratings(x))"
   ]
  },
  {
   "cell_type": "code",
   "execution_count": 46,
   "metadata": {},
   "outputs": [
    {
     "data": {
      "text/plain": [
       "0      Inspiring\n",
       "1          Funny\n",
       "2          Funny\n",
       "3      Inspiring\n",
       "4    Informative\n",
       "5      Inspiring\n",
       "6          Funny\n",
       "7      Ingenious\n",
       "8     Persuasive\n",
       "9      Inspiring\n",
       "Name: most_freq_rating, dtype: object"
      ]
     },
     "execution_count": 46,
     "metadata": {},
     "output_type": "execute_result"
    }
   ],
   "source": [
    "# check the result\n",
    "ted.most_freq_rating.head(10)"
   ]
  },
  {
   "cell_type": "code",
   "execution_count": 47,
   "metadata": {},
   "outputs": [
    {
     "data": {
      "text/plain": [
       "Inspiring       878\n",
       "Informative     725\n",
       "Fascinating     263\n",
       "Funny           163\n",
       "Beautiful       153\n",
       "Ingenious       103\n",
       "Courageous       85\n",
       "Persuasive       83\n",
       "Jaw-dropping     53\n",
       "Unconvincing     23\n",
       "Longwinded        8\n",
       "OK                7\n",
       "Obnoxious         4\n",
       "Confusing         2\n",
       "Name: most_freq_rating, dtype: int64"
      ]
     },
     "execution_count": 47,
     "metadata": {},
     "output_type": "execute_result"
    }
   ],
   "source": [
    "# top most frequent rating tags\n",
    "ted.most_freq_rating.value_counts()"
   ]
  },
  {
   "cell_type": "markdown",
   "metadata": {},
   "source": [
    "### * Clean the occupation data so that there's only one occupation per talk"
   ]
  },
  {
   "cell_type": "code",
   "execution_count": 59,
   "metadata": {},
   "outputs": [
    {
     "data": {
      "text/plain": [
       "0                                Author/educator\n",
       "1                               Climate advocate\n",
       "2                           Technology columnist\n",
       "3             Activist for environmental justice\n",
       "4           Global health expert; data visionary\n",
       "5    Life coach; expert in leadership psychology\n",
       "6                    Actor, comedian, playwright\n",
       "7                                      Architect\n",
       "8               Philosopher, cognitive scientist\n",
       "9                                 Pastor, author\n",
       "Name: speaker_occupation, dtype: object"
      ]
     },
     "execution_count": 59,
     "metadata": {},
     "output_type": "execute_result"
    }
   ],
   "source": [
    "ted.speaker_occupation.head(10)"
   ]
  },
  {
   "cell_type": "code",
   "execution_count": 53,
   "metadata": {},
   "outputs": [],
   "source": [
    "import re"
   ]
  },
  {
   "cell_type": "code",
   "execution_count": 62,
   "metadata": {},
   "outputs": [
    {
     "data": {
      "text/plain": [
       "['Global health expert', ' data visionary']"
      ]
     },
     "execution_count": 62,
     "metadata": {},
     "output_type": "execute_result"
    }
   ],
   "source": [
    "# notice two kinds seperators, check with the 4th records\n",
    "re.split(\",|;\", ted.speaker_occupation[4])"
   ]
  },
  {
   "cell_type": "code",
   "execution_count": 74,
   "metadata": {},
   "outputs": [],
   "source": [
    "# build a function to split the string and return the first value as the major occupation\n",
    "def get_major_occupation(occupation_string):\n",
    "    return re.split(\",|;\",occupation_string)[0]"
   ]
  },
  {
   "cell_type": "code",
   "execution_count": 75,
   "metadata": {},
   "outputs": [
    {
     "data": {
      "text/plain": [
       "'Global health expert'"
      ]
     },
     "execution_count": 75,
     "metadata": {},
     "output_type": "execute_result"
    }
   ],
   "source": [
    "#test the function\n",
    "get_major_occupation(ted.speaker_occupation[4])"
   ]
  },
  {
   "cell_type": "code",
   "execution_count": 78,
   "metadata": {},
   "outputs": [],
   "source": [
    "# apply to the whole column\n",
    "ted['major_occupation'] = ted.speaker_occupation.apply(lambda x: get_major_occupation(str(x)))\n"
   ]
  },
  {
   "cell_type": "code",
   "execution_count": 80,
   "metadata": {},
   "outputs": [
    {
     "data": {
      "text/plain": [
       "2456                   Historian\n",
       "932          Biomedical engineer\n",
       "2460                        Band\n",
       "708                      Skeptic\n",
       "84           Nature photographer\n",
       "2410            Social innovator\n",
       "1183                        Poet\n",
       "1               Climate advocate\n",
       "1389            Raptor biologist\n",
       "254     Animating neurobiologist\n",
       "Name: major_occupation, dtype: object"
      ]
     },
     "execution_count": 80,
     "metadata": {},
     "output_type": "execute_result"
    }
   ],
   "source": [
    "ted.major_occupation.sample(10)"
   ]
  },
  {
   "cell_type": "code",
   "execution_count": 81,
   "metadata": {},
   "outputs": [
    {
     "data": {
      "text/plain": [
       "Writer                                      64\n",
       "Artist                                      46\n",
       "Designer                                    45\n",
       "Journalist                                  40\n",
       "Author                                      37\n",
       "Entrepreneur                                36\n",
       "Inventor                                    35\n",
       "Architect                                   33\n",
       "Psychologist                                31\n",
       "Neuroscientist                              29\n",
       "Photographer                                25\n",
       "Economist                                   24\n",
       "Philosopher                                 23\n",
       "Biologist                                   23\n",
       "Filmmaker                                   22\n",
       "Musician                                    22\n",
       "Educator                                    21\n",
       "Physicist                                   21\n",
       "Roboticist                                  16\n",
       "Physician                                   15\n",
       "Poet                                        14\n",
       "Technologist                                13\n",
       "Activist                                    13\n",
       "Marine biologist                            12\n",
       "Novelist                                    11\n",
       "Comedian                                    11\n",
       "Engineer                                    11\n",
       "Astronomer                                  11\n",
       "Philanthropist                              10\n",
       "Historian                                   10\n",
       "                                            ..\n",
       "Innovator and social entrepreneur            1\n",
       "Global leader                                1\n",
       "Microroboticist                              1\n",
       "Programmer                                   1\n",
       "Educational psychology professor             1\n",
       " Chairman of the Cordoba Initiative          1\n",
       "Environmental economist                      1\n",
       "Moral philosopher                            1\n",
       "Technologist and visionary                   1\n",
       "Mother + ALS Advocate                        1\n",
       "Political scientist and journalist           1\n",
       "Filmmaker and Remixer                        1\n",
       "Behavioral economics founder                 1\n",
       "Micro-sculptor                               1\n",
       "Biological engineer                          1\n",
       "Vision activist                              1\n",
       "Science fair winner                          1\n",
       "Women's health advocate                      1\n",
       "Activists                                    1\n",
       "Ocean scientist                              1\n",
       "Pilot                                        1\n",
       "Former governor of Michigan                  1\n",
       "Environmental scientist                      1\n",
       "Founder and Executive Director               1\n",
       "Developmental and regeneration biologist     1\n",
       "Imaging scientist                            1\n",
       "Micro photographer                           1\n",
       "Founder of Wikipedia                         1\n",
       "Pediatric ICU doctor                         1\n",
       "Human beatbox                                1\n",
       "Name: major_occupation, Length: 1235, dtype: int64"
      ]
     },
     "execution_count": 81,
     "metadata": {},
     "output_type": "execute_result"
    }
   ],
   "source": [
    "# check unique values\n",
    "ted.major_occupation.value_counts()"
   ]
  },
  {
   "cell_type": "code",
   "execution_count": null,
   "metadata": {},
   "outputs": [],
   "source": []
  }
 ],
 "metadata": {
  "kernelspec": {
   "display_name": "Python 3",
   "language": "python",
   "name": "python3"
  },
  "language_info": {
   "codemirror_mode": {
    "name": "ipython",
    "version": 3
   },
   "file_extension": ".py",
   "mimetype": "text/x-python",
   "name": "python",
   "nbconvert_exporter": "python",
   "pygments_lexer": "ipython3",
   "version": "3.7.1"
  }
 },
 "nbformat": 4,
 "nbformat_minor": 2
}
