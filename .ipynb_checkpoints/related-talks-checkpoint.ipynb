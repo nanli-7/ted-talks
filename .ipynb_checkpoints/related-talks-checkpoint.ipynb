{
 "cells": [
  {
   "cell_type": "code",
   "execution_count": 1,
   "metadata": {},
   "outputs": [],
   "source": [
    "import pandas"
   ]
  },
  {
   "cell_type": "code",
   "execution_count": 2,
   "metadata": {},
   "outputs": [],
   "source": [
    "ted = pandas.read_csv('ted_main.csv')"
   ]
  },
  {
   "cell_type": "code",
   "execution_count": 3,
   "metadata": {},
   "outputs": [
    {
     "data": {
      "text/plain": [
       "str"
      ]
     },
     "execution_count": 3,
     "metadata": {},
     "output_type": "execute_result"
    }
   ],
   "source": [
    "type(ted.related_talks[0])"
   ]
  },
  {
   "cell_type": "code",
   "execution_count": 4,
   "metadata": {},
   "outputs": [],
   "source": [
    "import ast"
   ]
  },
  {
   "cell_type": "code",
   "execution_count": 5,
   "metadata": {},
   "outputs": [],
   "source": [
    "# convert the related-talk column into list format\n",
    "# check the type of related_talks column \n",
    "ted['related_talks_list']= ted.related_talks.apply(lambda x: ast.literal_eval(x))"
   ]
  },
  {
   "cell_type": "code",
   "execution_count": 6,
   "metadata": {},
   "outputs": [
    {
     "data": {
      "text/plain": [
       "[{'id': 865,\n",
       "  'hero': 'https://pe.tedcdn.com/images/ted/172559_800x600.jpg',\n",
       "  'speaker': 'Ken Robinson',\n",
       "  'title': 'Bring on the learning revolution!',\n",
       "  'duration': 1008,\n",
       "  'slug': 'sir_ken_robinson_bring_on_the_revolution',\n",
       "  'viewed_count': 7266103},\n",
       " {'id': 1738,\n",
       "  'hero': 'https://pe.tedcdn.com/images/ted/de98b161ad1434910ff4b56c89de71af04b8b873_1600x1200.jpg',\n",
       "  'speaker': 'Ken Robinson',\n",
       "  'title': \"How to escape education's death valley\",\n",
       "  'duration': 1151,\n",
       "  'slug': 'ken_robinson_how_to_escape_education_s_death_valley',\n",
       "  'viewed_count': 6657572},\n",
       " {'id': 2276,\n",
       "  'hero': 'https://pe.tedcdn.com/images/ted/3821f3728e0b755c7b9aea2e69cc093eca41abe1_2880x1620.jpg',\n",
       "  'speaker': 'Linda Cliatt-Wayman',\n",
       "  'title': 'How to fix a broken school? Lead fearlessly, love hard',\n",
       "  'duration': 1027,\n",
       "  'slug': 'linda_cliatt_wayman_how_to_fix_a_broken_school_lead_fearlessly_love_hard',\n",
       "  'viewed_count': 1617101},\n",
       " {'id': 892,\n",
       "  'hero': 'https://pe.tedcdn.com/images/ted/e79958940573cc610ccb583619a54866c41ef303_2880x1620.jpg',\n",
       "  'speaker': 'Charles Leadbeater',\n",
       "  'title': 'Education innovation in the slums',\n",
       "  'duration': 1138,\n",
       "  'slug': 'charles_leadbeater_on_education',\n",
       "  'viewed_count': 772296},\n",
       " {'id': 1232,\n",
       "  'hero': 'https://pe.tedcdn.com/images/ted/0e3e4e92d5ee8ae0e43962d447d3f790b31099b8_800x600.jpg',\n",
       "  'speaker': 'Geoff Mulgan',\n",
       "  'title': 'A short intro to the Studio School',\n",
       "  'duration': 376,\n",
       "  'slug': 'geoff_mulgan_a_short_intro_to_the_studio_school',\n",
       "  'viewed_count': 667971},\n",
       " {'id': 2616,\n",
       "  'hero': 'https://pe.tedcdn.com/images/ted/71cde5a6fa6c717488fb55eff9eef939a9241761_2880x1620.jpg',\n",
       "  'speaker': 'Kandice Sumner',\n",
       "  'title': \"How America's public schools keep kids in poverty\",\n",
       "  'duration': 830,\n",
       "  'slug': 'kandice_sumner_how_america_s_public_schools_keep_kids_in_poverty',\n",
       "  'viewed_count': 1181333}]"
      ]
     },
     "execution_count": 6,
     "metadata": {},
     "output_type": "execute_result"
    }
   ],
   "source": [
    "ted.related_talks_list[0]"
   ]
  },
  {
   "cell_type": "code",
   "execution_count": 20,
   "metadata": {},
   "outputs": [
    {
     "data": {
      "text/html": [
       "<div>\n",
       "<style scoped>\n",
       "    .dataframe tbody tr th:only-of-type {\n",
       "        vertical-align: middle;\n",
       "    }\n",
       "\n",
       "    .dataframe tbody tr th {\n",
       "        vertical-align: top;\n",
       "    }\n",
       "\n",
       "    .dataframe thead th {\n",
       "        text-align: right;\n",
       "    }\n",
       "</style>\n",
       "<table border=\"1\" class=\"dataframe\">\n",
       "  <thead>\n",
       "    <tr style=\"text-align: right;\">\n",
       "      <th></th>\n",
       "      <th>comments</th>\n",
       "      <th>description</th>\n",
       "      <th>duration</th>\n",
       "      <th>event</th>\n",
       "      <th>film_date</th>\n",
       "      <th>languages</th>\n",
       "      <th>main_speaker</th>\n",
       "      <th>name</th>\n",
       "      <th>num_speaker</th>\n",
       "      <th>published_date</th>\n",
       "      <th>ratings</th>\n",
       "      <th>related_talks</th>\n",
       "      <th>speaker_occupation</th>\n",
       "      <th>tags</th>\n",
       "      <th>title</th>\n",
       "      <th>url</th>\n",
       "      <th>views</th>\n",
       "      <th>related_talks_list</th>\n",
       "      <th>related_talk_ids</th>\n",
       "    </tr>\n",
       "  </thead>\n",
       "  <tbody>\n",
       "    <tr>\n",
       "      <th>692</th>\n",
       "      <td>1234</td>\n",
       "      <td>In this poignant, funny follow-up to his fable...</td>\n",
       "      <td>1008</td>\n",
       "      <td>TED2010</td>\n",
       "      <td>1265414400</td>\n",
       "      <td>57</td>\n",
       "      <td>Ken Robinson</td>\n",
       "      <td>Ken Robinson: Bring on the learning revolution!</td>\n",
       "      <td>1</td>\n",
       "      <td>1274691960</td>\n",
       "      <td>[{'id': 7, 'name': 'Funny', 'count': 3000}, {'...</td>\n",
       "      <td>[{'id': 66, 'hero': 'https://pe.tedcdn.com/ima...</td>\n",
       "      <td>Author/educator</td>\n",
       "      <td>['TED Brain Trust', 'children', 'creativity', ...</td>\n",
       "      <td>Bring on the learning revolution!</td>\n",
       "      <td>https://www.ted.com/talks/sir_ken_robinson_bri...</td>\n",
       "      <td>7266316</td>\n",
       "      <td>[{'id': 66, 'hero': 'https://pe.tedcdn.com/ima...</td>\n",
       "      <td>[66, 1738, 809, 892, 1232, 2728]</td>\n",
       "    </tr>\n",
       "  </tbody>\n",
       "</table>\n",
       "</div>"
      ],
      "text/plain": [
       "     comments                                        description  duration  \\\n",
       "692      1234  In this poignant, funny follow-up to his fable...      1008   \n",
       "\n",
       "       event   film_date  languages  main_speaker  \\\n",
       "692  TED2010  1265414400         57  Ken Robinson   \n",
       "\n",
       "                                                name  num_speaker  \\\n",
       "692  Ken Robinson: Bring on the learning revolution!            1   \n",
       "\n",
       "     published_date                                            ratings  \\\n",
       "692      1274691960  [{'id': 7, 'name': 'Funny', 'count': 3000}, {'...   \n",
       "\n",
       "                                         related_talks speaker_occupation  \\\n",
       "692  [{'id': 66, 'hero': 'https://pe.tedcdn.com/ima...    Author/educator   \n",
       "\n",
       "                                                  tags  \\\n",
       "692  ['TED Brain Trust', 'children', 'creativity', ...   \n",
       "\n",
       "                                 title  \\\n",
       "692  Bring on the learning revolution!   \n",
       "\n",
       "                                                   url    views  \\\n",
       "692  https://www.ted.com/talks/sir_ken_robinson_bri...  7266316   \n",
       "\n",
       "                                    related_talks_list  \\\n",
       "692  [{'id': 66, 'hero': 'https://pe.tedcdn.com/ima...   \n",
       "\n",
       "                     related_talk_ids  \n",
       "692  [66, 1738, 809, 892, 1232, 2728]  "
      ]
     },
     "execution_count": 20,
     "metadata": {},
     "output_type": "execute_result"
    }
   ],
   "source": [
    "# check the first related talk, the id number is not the index number in the database\n",
    "# therefore, we shall use the title name as reference \n",
    "ted[ted['title']== 'Bring on the learning revolution!']"
   ]
  },
  {
   "cell_type": "code",
   "execution_count": 26,
   "metadata": {},
   "outputs": [
    {
     "name": "stdout",
     "output_type": "stream",
     "text": [
      "692\n",
      "715\n",
      "1023\n",
      "1502\n",
      "1991\n",
      "2316\n"
     ]
    }
   ],
   "source": [
    "# take a test function for the first record, to find the index in current database\n",
    "for idx, title in enumerate(ted.title):\n",
    "    for d in ted.related_talks_list[0]:\n",
    "        if title == d['title']:            \n",
    "            print(idx)"
   ]
  },
  {
   "cell_type": "code",
   "execution_count": 30,
   "metadata": {},
   "outputs": [],
   "source": [
    "def get_related_talk_id(list_of_dicts):\n",
    "    id_list = []\n",
    "    for idx, title in enumerate(ted.title):\n",
    "        for d in list_of_dicts:\n",
    "            if title == d['title']:\n",
    "                id_list.append(idx)\n",
    "    return id_list"
   ]
  },
  {
   "cell_type": "code",
   "execution_count": 31,
   "metadata": {},
   "outputs": [
    {
     "data": {
      "text/plain": [
       "[692, 715, 1023, 1502, 1991, 2316]"
      ]
     },
     "execution_count": 31,
     "metadata": {},
     "output_type": "execute_result"
    }
   ],
   "source": [
    "get_related_talk_id(ted.related_talks_list[0])"
   ]
  },
  {
   "cell_type": "code",
   "execution_count": 32,
   "metadata": {},
   "outputs": [
    {
     "data": {
      "text/plain": [
       "0     [692, 715, 1023, 1502, 1991, 2316]\n",
       "1     [214, 450, 1825, 2051, 2058, 2453]\n",
       "2     [145, 370, 1340, 1488, 1989, 2359]\n",
       "3    [836, 1644, 1817, 2513, 2514, 2535]\n",
       "4       [117, 502, 726, 784, 1797, 2028]\n",
       "5         [29, 47, 201, 888, 1996, 2537]\n",
       "6               [8, 9, 43, 95, 260, 685]\n",
       "7        [74, 202, 305, 603, 1829, 1932]\n",
       "8          [9, 96, 204, 261, 1114, 1767]\n",
       "9            [6, 8, 260, 261, 326, 1767]\n",
       "Name: related_talk_ids, dtype: object"
      ]
     },
     "execution_count": 32,
     "metadata": {},
     "output_type": "execute_result"
    }
   ],
   "source": [
    "# each talk has 6 related talks, however many of recommended talk ids are not in our database\n",
    "ted['related_talk_ids'] = ted.related_talks_list.apply(lambda x: get_related_talk_id(x))\n",
    "ted.related_talk_ids[:10]"
   ]
  },
  {
   "cell_type": "code",
   "execution_count": 11,
   "metadata": {},
   "outputs": [],
   "source": [
    "###  coorelations within related talks"
   ]
  },
  {
   "cell_type": "code",
   "execution_count": 42,
   "metadata": {},
   "outputs": [],
   "source": [
    "import collections"
   ]
  },
  {
   "cell_type": "code",
   "execution_count": 44,
   "metadata": {},
   "outputs": [
    {
     "name": "stdout",
     "output_type": "stream",
     "text": [
      "[692, 715, 1023, 1502, 1991, 2316, 0, 651, 715, 1023, 1502, 2426, 57, 280, 692, 1023, 1441, 1502, 171, 654, 692, 715, 1441, 1502, 0, 692, 1023, 1441, 1500, 2232, 0, 1493, 1983, 2232, 2285, 2445, 1498, 1500, 2154, 2165, 2285, 2445]\n",
      "42\n",
      "23\n"
     ]
    },
    {
     "data": {
      "text/plain": [
       "[(692, 4),\n",
       " (1023, 4),\n",
       " (1502, 4),\n",
       " (715, 3),\n",
       " (0, 3),\n",
       " (1441, 3),\n",
       " (1500, 2),\n",
       " (2232, 2),\n",
       " (2285, 2),\n",
       " (2445, 2),\n",
       " (1991, 1),\n",
       " (2316, 1),\n",
       " (651, 1),\n",
       " (2426, 1),\n",
       " (57, 1),\n",
       " (280, 1),\n",
       " (171, 1),\n",
       " (654, 1),\n",
       " (1493, 1),\n",
       " (1983, 1),\n",
       " (1498, 1),\n",
       " (2154, 1),\n",
       " (2165, 1)]"
      ]
     },
     "execution_count": 44,
     "metadata": {},
     "output_type": "execute_result"
    }
   ],
   "source": [
    "related_to_first = ted.related_talk_ids[0]\n",
    "for n in ted.related_talk_ids[0]:\n",
    "    related_to_first = related_to_first + ted.related_talk_ids[n]\n",
    "print(related_to_first)\n",
    "print(len(related_to_first))\n",
    "print(len(set(related_to_first)))\n",
    "collections.Counter(related_to_first).most_common()"
   ]
  },
  {
   "cell_type": "markdown",
   "metadata": {},
   "source": [
    "* the diff of between set and talk list is almost 50 percent, which means that many talks were recommended backward to the related talks for the first entry . build a function to compute the percentage of the overlappings "
   ]
  },
  {
   "cell_type": "code",
   "execution_count": 36,
   "metadata": {},
   "outputs": [],
   "source": [
    "def comp_overlapping_percentage(related_talk_ids):\n",
    "    related =related_talk_ids\n",
    "    for n in related_talk_ids:\n",
    "        related = related + ted.related_talk_ids[n]\n",
    "    return (len(related) - len(set(related)))/float(len(related)) if len(related) else 0"
   ]
  },
  {
   "cell_type": "code",
   "execution_count": 37,
   "metadata": {},
   "outputs": [
    {
     "data": {
      "text/plain": [
       "0.4523809523809524"
      ]
     },
     "execution_count": 37,
     "metadata": {},
     "output_type": "execute_result"
    }
   ],
   "source": [
    "comp_overlapping_percentage(ted.related_talk_ids[0])"
   ]
  },
  {
   "cell_type": "code",
   "execution_count": 38,
   "metadata": {},
   "outputs": [],
   "source": [
    "percentage_list = ted.related_talk_ids.apply(lambda x: comp_overlapping_percentage(x))"
   ]
  },
  {
   "cell_type": "code",
   "execution_count": 41,
   "metadata": {},
   "outputs": [
    {
     "data": {
      "text/plain": [
       "count    2550.000000\n",
       "mean        0.247633\n",
       "std         0.132972\n",
       "min         0.000000\n",
       "25%         0.142857\n",
       "50%         0.238095\n",
       "75%         0.333333\n",
       "max         0.714286\n",
       "Name: related_talk_ids, dtype: float64"
      ]
     },
     "execution_count": 41,
     "metadata": {},
     "output_type": "execute_result"
    }
   ],
   "source": [
    "percentage_list.describe()"
   ]
  },
  {
   "cell_type": "code",
   "execution_count": 45,
   "metadata": {},
   "outputs": [
    {
     "data": {
      "text/html": [
       "<div>\n",
       "<style scoped>\n",
       "    .dataframe tbody tr th:only-of-type {\n",
       "        vertical-align: middle;\n",
       "    }\n",
       "\n",
       "    .dataframe tbody tr th {\n",
       "        vertical-align: top;\n",
       "    }\n",
       "\n",
       "    .dataframe thead th {\n",
       "        text-align: right;\n",
       "    }\n",
       "</style>\n",
       "<table border=\"1\" class=\"dataframe\">\n",
       "  <thead>\n",
       "    <tr style=\"text-align: right;\">\n",
       "      <th></th>\n",
       "      <th>comments</th>\n",
       "      <th>description</th>\n",
       "      <th>duration</th>\n",
       "      <th>event</th>\n",
       "      <th>film_date</th>\n",
       "      <th>languages</th>\n",
       "      <th>main_speaker</th>\n",
       "      <th>name</th>\n",
       "      <th>num_speaker</th>\n",
       "      <th>published_date</th>\n",
       "      <th>ratings</th>\n",
       "      <th>related_talks</th>\n",
       "      <th>speaker_occupation</th>\n",
       "      <th>tags</th>\n",
       "      <th>title</th>\n",
       "      <th>url</th>\n",
       "      <th>views</th>\n",
       "      <th>related_talks_list</th>\n",
       "      <th>related_talk_ids</th>\n",
       "    </tr>\n",
       "  </thead>\n",
       "  <tbody>\n",
       "    <tr>\n",
       "      <th>0</th>\n",
       "      <td>4553</td>\n",
       "      <td>Sir Ken Robinson makes an entertaining and pro...</td>\n",
       "      <td>1164</td>\n",
       "      <td>TED2006</td>\n",
       "      <td>1140825600</td>\n",
       "      <td>60</td>\n",
       "      <td>Ken Robinson</td>\n",
       "      <td>Ken Robinson: Do schools kill creativity?</td>\n",
       "      <td>1</td>\n",
       "      <td>1151367060</td>\n",
       "      <td>[{'id': 7, 'name': 'Funny', 'count': 19645}, {...</td>\n",
       "      <td>[{'id': 865, 'hero': 'https://pe.tedcdn.com/im...</td>\n",
       "      <td>Author/educator</td>\n",
       "      <td>['children', 'creativity', 'culture', 'dance',...</td>\n",
       "      <td>Do schools kill creativity?</td>\n",
       "      <td>https://www.ted.com/talks/ken_robinson_says_sc...</td>\n",
       "      <td>47227110</td>\n",
       "      <td>[{'id': 865, 'hero': 'https://pe.tedcdn.com/im...</td>\n",
       "      <td>[692, 715, 1023, 1502, 1991, 2316]</td>\n",
       "    </tr>\n",
       "    <tr>\n",
       "      <th>692</th>\n",
       "      <td>1234</td>\n",
       "      <td>In this poignant, funny follow-up to his fable...</td>\n",
       "      <td>1008</td>\n",
       "      <td>TED2010</td>\n",
       "      <td>1265414400</td>\n",
       "      <td>57</td>\n",
       "      <td>Ken Robinson</td>\n",
       "      <td>Ken Robinson: Bring on the learning revolution!</td>\n",
       "      <td>1</td>\n",
       "      <td>1274691960</td>\n",
       "      <td>[{'id': 7, 'name': 'Funny', 'count': 3000}, {'...</td>\n",
       "      <td>[{'id': 66, 'hero': 'https://pe.tedcdn.com/ima...</td>\n",
       "      <td>Author/educator</td>\n",
       "      <td>['TED Brain Trust', 'children', 'creativity', ...</td>\n",
       "      <td>Bring on the learning revolution!</td>\n",
       "      <td>https://www.ted.com/talks/sir_ken_robinson_bri...</td>\n",
       "      <td>7266316</td>\n",
       "      <td>[{'id': 66, 'hero': 'https://pe.tedcdn.com/ima...</td>\n",
       "      <td>[0, 651, 715, 1023, 1502, 2426]</td>\n",
       "    </tr>\n",
       "    <tr>\n",
       "      <th>833</th>\n",
       "      <td>473</td>\n",
       "      <td>In this talk from RSA Animate, Sir Ken Robinso...</td>\n",
       "      <td>700</td>\n",
       "      <td>RSA Animate</td>\n",
       "      <td>1287014400</td>\n",
       "      <td>0</td>\n",
       "      <td>Ken Robinson</td>\n",
       "      <td>Ken Robinson: Changing education paradigms</td>\n",
       "      <td>1</td>\n",
       "      <td>1292773140</td>\n",
       "      <td>[{'id': 24, 'name': 'Persuasive', 'count': 145...</td>\n",
       "      <td>[{'id': 865, 'hero': 'https://pe.tedcdn.com/im...</td>\n",
       "      <td>Author/educator</td>\n",
       "      <td>['TED Brain Trust', 'business', 'children', 'd...</td>\n",
       "      <td>Changing education paradigms</td>\n",
       "      <td>https://www.ted.com/talks/ken_robinson_changin...</td>\n",
       "      <td>1854997</td>\n",
       "      <td>[{'id': 865, 'hero': 'https://pe.tedcdn.com/im...</td>\n",
       "      <td>[692]</td>\n",
       "    </tr>\n",
       "    <tr>\n",
       "      <th>1502</th>\n",
       "      <td>634</td>\n",
       "      <td>Sir Ken Robinson outlines 3 principles crucial...</td>\n",
       "      <td>1151</td>\n",
       "      <td>TED Talks Education</td>\n",
       "      <td>1366675200</td>\n",
       "      <td>43</td>\n",
       "      <td>Ken Robinson</td>\n",
       "      <td>Ken Robinson: How to escape education's death ...</td>\n",
       "      <td>1</td>\n",
       "      <td>1368198532</td>\n",
       "      <td>[{'id': 21, 'name': 'Unconvincing', 'count': 2...</td>\n",
       "      <td>[{'id': 66, 'hero': 'https://pe.tedcdn.com/ima...</td>\n",
       "      <td>Author/educator</td>\n",
       "      <td>['culture', 'education', 'student', 'teaching'...</td>\n",
       "      <td>How to escape education's death valley</td>\n",
       "      <td>https://www.ted.com/talks/ken_robinson_how_to_...</td>\n",
       "      <td>6657858</td>\n",
       "      <td>[{'id': 66, 'hero': 'https://pe.tedcdn.com/ima...</td>\n",
       "      <td>[0, 692, 1023, 1441, 1500, 2232]</td>\n",
       "    </tr>\n",
       "  </tbody>\n",
       "</table>\n",
       "</div>"
      ],
      "text/plain": [
       "      comments                                        description  duration  \\\n",
       "0         4553  Sir Ken Robinson makes an entertaining and pro...      1164   \n",
       "692       1234  In this poignant, funny follow-up to his fable...      1008   \n",
       "833        473  In this talk from RSA Animate, Sir Ken Robinso...       700   \n",
       "1502       634  Sir Ken Robinson outlines 3 principles crucial...      1151   \n",
       "\n",
       "                    event   film_date  languages  main_speaker  \\\n",
       "0                 TED2006  1140825600         60  Ken Robinson   \n",
       "692               TED2010  1265414400         57  Ken Robinson   \n",
       "833           RSA Animate  1287014400          0  Ken Robinson   \n",
       "1502  TED Talks Education  1366675200         43  Ken Robinson   \n",
       "\n",
       "                                                   name  num_speaker  \\\n",
       "0             Ken Robinson: Do schools kill creativity?            1   \n",
       "692     Ken Robinson: Bring on the learning revolution!            1   \n",
       "833          Ken Robinson: Changing education paradigms            1   \n",
       "1502  Ken Robinson: How to escape education's death ...            1   \n",
       "\n",
       "      published_date                                            ratings  \\\n",
       "0         1151367060  [{'id': 7, 'name': 'Funny', 'count': 19645}, {...   \n",
       "692       1274691960  [{'id': 7, 'name': 'Funny', 'count': 3000}, {'...   \n",
       "833       1292773140  [{'id': 24, 'name': 'Persuasive', 'count': 145...   \n",
       "1502      1368198532  [{'id': 21, 'name': 'Unconvincing', 'count': 2...   \n",
       "\n",
       "                                          related_talks speaker_occupation  \\\n",
       "0     [{'id': 865, 'hero': 'https://pe.tedcdn.com/im...    Author/educator   \n",
       "692   [{'id': 66, 'hero': 'https://pe.tedcdn.com/ima...    Author/educator   \n",
       "833   [{'id': 865, 'hero': 'https://pe.tedcdn.com/im...    Author/educator   \n",
       "1502  [{'id': 66, 'hero': 'https://pe.tedcdn.com/ima...    Author/educator   \n",
       "\n",
       "                                                   tags  \\\n",
       "0     ['children', 'creativity', 'culture', 'dance',...   \n",
       "692   ['TED Brain Trust', 'children', 'creativity', ...   \n",
       "833   ['TED Brain Trust', 'business', 'children', 'd...   \n",
       "1502  ['culture', 'education', 'student', 'teaching'...   \n",
       "\n",
       "                                       title  \\\n",
       "0                Do schools kill creativity?   \n",
       "692        Bring on the learning revolution!   \n",
       "833             Changing education paradigms   \n",
       "1502  How to escape education's death valley   \n",
       "\n",
       "                                                    url     views  \\\n",
       "0     https://www.ted.com/talks/ken_robinson_says_sc...  47227110   \n",
       "692   https://www.ted.com/talks/sir_ken_robinson_bri...   7266316   \n",
       "833   https://www.ted.com/talks/ken_robinson_changin...   1854997   \n",
       "1502  https://www.ted.com/talks/ken_robinson_how_to_...   6657858   \n",
       "\n",
       "                                     related_talks_list  \\\n",
       "0     [{'id': 865, 'hero': 'https://pe.tedcdn.com/im...   \n",
       "692   [{'id': 66, 'hero': 'https://pe.tedcdn.com/ima...   \n",
       "833   [{'id': 865, 'hero': 'https://pe.tedcdn.com/im...   \n",
       "1502  [{'id': 66, 'hero': 'https://pe.tedcdn.com/ima...   \n",
       "\n",
       "                        related_talk_ids  \n",
       "0     [692, 715, 1023, 1502, 1991, 2316]  \n",
       "692      [0, 651, 715, 1023, 1502, 2426]  \n",
       "833                                [692]  \n",
       "1502    [0, 692, 1023, 1441, 1500, 2232]  "
      ]
     },
     "execution_count": 45,
     "metadata": {},
     "output_type": "execute_result"
    }
   ],
   "source": [
    "ted[ted['main_speaker']== 'Ken Robinson']"
   ]
  },
  {
   "cell_type": "code",
   "execution_count": 47,
   "metadata": {},
   "outputs": [
    {
     "data": {
      "text/plain": [
       "comments                                                            155\n",
       "description           Some kids learn by listening; others learn by ...\n",
       "duration                                                            376\n",
       "event                                                    TEDGlobal 2011\n",
       "film_date                                                    1310428800\n",
       "languages                                                            37\n",
       "main_speaker                                               Geoff Mulgan\n",
       "name                   Geoff Mulgan: A short intro to the Studio School\n",
       "num_speaker                                                           1\n",
       "published_date                                               1317136687\n",
       "ratings               [{'id': 25, 'name': 'OK', 'count': 59}, {'id':...\n",
       "related_talks         [{'id': 865, 'hero': 'https://pe.tedcdn.com/im...\n",
       "speaker_occupation                                   Social commentator\n",
       "tags                  ['creativity', 'culture', 'design', 'education...\n",
       "title                                A short intro to the Studio School\n",
       "url                   https://www.ted.com/talks/geoff_mulgan_a_short...\n",
       "views                                                            667985\n",
       "related_talks_list    [{'id': 865, 'hero': 'https://pe.tedcdn.com/im...\n",
       "related_talk_ids                       [171, 654, 692, 715, 1441, 1502]\n",
       "Name: 1023, dtype: object"
      ]
     },
     "execution_count": 47,
     "metadata": {},
     "output_type": "execute_result"
    }
   ],
   "source": [
    "ted.iloc[1023]"
   ]
  },
  {
   "cell_type": "code",
   "execution_count": null,
   "metadata": {},
   "outputs": [],
   "source": []
  }
 ],
 "metadata": {
  "kernelspec": {
   "display_name": "Python 3",
   "language": "python",
   "name": "python3"
  },
  "language_info": {
   "codemirror_mode": {
    "name": "ipython",
    "version": 3
   },
   "file_extension": ".py",
   "mimetype": "text/x-python",
   "name": "python",
   "nbconvert_exporter": "python",
   "pygments_lexer": "ipython3",
   "version": "3.7.1"
  }
 },
 "nbformat": 4,
 "nbformat_minor": 2
}
