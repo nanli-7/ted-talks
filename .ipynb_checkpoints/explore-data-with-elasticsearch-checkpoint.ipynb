{
 "cells": [
  {
   "cell_type": "code",
   "execution_count": 1,
   "metadata": {},
   "outputs": [],
   "source": [
    "import pandas"
   ]
  },
  {
   "cell_type": "code",
   "execution_count": 2,
   "metadata": {},
   "outputs": [],
   "source": [
    "df = pandas.read_csv('transcripts.csv')"
   ]
  },
  {
   "cell_type": "code",
   "execution_count": 4,
   "metadata": {},
   "outputs": [],
   "source": [
    "ted = pandas.read_csv('ted_main.csv')"
   ]
  },
  {
   "cell_type": "code",
   "execution_count": 5,
   "metadata": {},
   "outputs": [
    {
     "data": {
      "text/plain": [
       "comments               int64\n",
       "description           object\n",
       "duration               int64\n",
       "event                 object\n",
       "film_date              int64\n",
       "languages              int64\n",
       "main_speaker          object\n",
       "name                  object\n",
       "num_speaker            int64\n",
       "published_date         int64\n",
       "ratings               object\n",
       "related_talks         object\n",
       "speaker_occupation    object\n",
       "tags                  object\n",
       "title                 object\n",
       "url                   object\n",
       "views                  int64\n",
       "dtype: object"
      ]
     },
     "execution_count": 5,
     "metadata": {},
     "output_type": "execute_result"
    }
   ],
   "source": [
    "ted.dtypes"
   ]
  },
  {
   "cell_type": "markdown",
   "metadata": {},
   "source": [
    "## 1. Create json file with index"
   ]
  },
  {
   "cell_type": "code",
   "execution_count": 11,
   "metadata": {},
   "outputs": [],
   "source": [
    "import json"
   ]
  },
  {
   "cell_type": "code",
   "execution_count": 14,
   "metadata": {},
   "outputs": [],
   "source": [
    "meta_field_list = []\n",
    "for i in range(len(ted)):\n",
    "    # create index for each entry\n",
    "    meta_field = { \"index\" : { \"_index\" : \"ted\", \"_type\" : \"_doc\", \"_id\" : i } }\n",
    "    meta_field_list.append(meta_field)"
   ]
  },
  {
   "cell_type": "code",
   "execution_count": 15,
   "metadata": {},
   "outputs": [],
   "source": [
    "\"\"\"create json file in specific format for bulk operation\"\"\"\n",
    "## action_and_meta_data\\n\n",
    "## optional_source\\n\n",
    "\n",
    "with open('ted.json', 'w') as outfile:\n",
    "    for (idx, line) in zip(meta_field_list, ted.to_dict('record')):\n",
    "        json.dump(idx, outfile)\n",
    "        outfile.write('\\n')\n",
    "        json.dump(line, outfile)\n",
    "        outfile.write('\\n')"
   ]
  },
  {
   "cell_type": "markdown",
   "metadata": {},
   "source": [
    "## 2. Import index to ES system"
   ]
  },
  {
   "cell_type": "markdown",
   "metadata": {},
   "source": [
    "```\n",
    "curl -s -H \"Content-Type: application/x-ndjson\" -XPOST localhost:9200/ted/_bulk --data-binary @ted.json\n",
    "```"
   ]
  },
  {
   "cell_type": "markdown",
   "metadata": {},
   "source": [
    "### create mappings "
   ]
  },
  {
   "cell_type": "markdown",
   "metadata": {},
   "source": [
    "```\n",
    "{\n",
    "  \"mapping\": {\n",
    "    \n",
    "    \"properties\": {\n",
    "      \"comments\": {\n",
    "        \"type\": \"long\"\n",
    "      },\n",
    "      \"description\": {\n",
    "        \"type\": \"text\"\n",
    "      },\n",
    "      \"duration\": {\n",
    "        \"type\": \"long\"\n",
    "      },\n",
    "      \"event\": {\n",
    "        \"type\": \"keyword\"\n",
    "      },\n",
    "      \"film_date\": {\n",
    "        \"type\": \"date\",\n",
    "        \"format\": \"epoch_second\"\n",
    "      },\n",
    "      \"languages\": {\n",
    "        \"type\": \"long\"\n",
    "      },\n",
    "      \"main_speaker\": {\n",
    "        \"type\": \"text\"\n",
    "      },\n",
    "      \"name\": {\n",
    "        \"type\": \"text\"\n",
    "      },\n",
    "      \"num_speaker\": {\n",
    "        \"type\": \"long\"\n",
    "      },\n",
    "      \"published_date\": {\n",
    "        \"type\": \"date\",\n",
    "        \"format\": \"epoch_second\"\n",
    "      },\n",
    "      \"ratings\": {\n",
    "        \"type\": \"text\"\n",
    "      },\n",
    "      \"related_talks\": {\n",
    "        \"type\": \"text\"\n",
    "      },\n",
    "      \"speaker_occupation\": {\n",
    "        \"type\": \"text\"\n",
    "      },\n",
    "      \"tags\": {\n",
    "        \"type\": \"text\"\n",
    "      },\n",
    "      \"title\": {\n",
    "        \"type\": \"text\"\n",
    "      },\n",
    "      \"url\": {\n",
    "        \"type\": \"text\"\n",
    "      },\n",
    "      \"views\": {\n",
    "        \"type\": \"long\"\n",
    "      }\n",
    "    }\n",
    "  }\n",
    "}\n",
    "```"
   ]
  },
  {
   "cell_type": "markdown",
   "metadata": {},
   "source": [
    "## 3. Perform search queries"
   ]
  },
  {
   "cell_type": "markdown",
   "metadata": {},
   "source": [
    "__Event Goups__\n",
    "\n",
    "```\n",
    "GET ted/_doc/_search?size=0\n",
    "{\n",
    "    \"aggs\" : {\n",
    "        \"events\" : {\n",
    "            \"terms\" : { \"field\" : \"event\" } \n",
    "        }\n",
    "    }\n",
    "}\n",
    "```"
   ]
  },
  {
   "cell_type": "markdown",
   "metadata": {},
   "source": [
    "__Response:__\n",
    "```\n",
    "{ ...\n",
    "\"hits\" : {\n",
    "    \"total\" : {\n",
    "      \"value\" : 2544,\n",
    "      \"relation\" : \"eq\"\n",
    "    },\n",
    "    \"max_score\" : null,\n",
    "    \"hits\" : [ ]\n",
    "  },\n",
    "  \"aggregations\" : {\n",
    "    \"events\" : {\n",
    "      \"doc_count_error_upper_bound\" : 0,\n",
    "      \"sum_other_doc_count\" : 1805,\n",
    "      \"buckets\" : [\n",
    "        {\n",
    "          \"key\" : \"TED2014\",\n",
    "          \"doc_count\" : 84\n",
    "        },\n",
    "        {\n",
    "          \"key\" : \"TED2009\",\n",
    "          \"doc_count\" : 83\n",
    "        },\n",
    "        {\n",
    "          \"key\" : \"TED2013\",\n",
    "          \"doc_count\" : 77\n",
    "        },\n",
    "        {\n",
    "          \"key\" : \"TED2016\",\n",
    "          \"doc_count\" : 77\n",
    "        },\n",
    "        {\n",
    "          \"key\" : \"TED2015\",\n",
    "          \"doc_count\" : 75\n",
    "        },\n",
    "        {\n",
    "          \"key\" : \"TED2011\",\n",
    "          \"doc_count\" : 70\n",
    "        },\n",
    "        {\n",
    "          \"key\" : \"TEDGlobal 2012\",\n",
    "          \"doc_count\" : 70\n",
    "        },\n",
    "        {\n",
    "          \"key\" : \"TED2007\",\n",
    "          \"doc_count\" : 68\n",
    "        },\n",
    "        {\n",
    "          \"key\" : \"TED2010\",\n",
    "          \"doc_count\" : 68\n",
    "        },\n",
    "        {\n",
    "          \"key\" : \"TED2017\",\n",
    "          \"doc_count\" : 67\n",
    "        }\n",
    "      ]\n",
    "    }\n",
    "   \n",
    "    ```"
   ]
  },
  {
   "cell_type": "markdown",
   "metadata": {},
   "source": [
    "___________\n",
    "__Query Examples:__\n",
    "\n",
    "```\n",
    "GET ted/_doc/_search\n",
    "{\n",
    "  \"query\":{\n",
    "    \"match\":{\n",
    "      \"speaker_occupation\":\"economist\"\n",
    "    }\n",
    "  }\n",
    "}\n",
    "\n",
    "GET ted/_doc/_search\n",
    "{\n",
    "  \"query\":{\n",
    "    \"match\":{\n",
    "      \"tags\":\"business\"\n",
    "    }\n",
    "  }\n",
    "}\n",
    "\n",
    "GET ted/_doc/_search\n",
    "{\n",
    "  \"query\": {\n",
    "    \"more_like_this\": {\n",
    "      \"fields\": [\"description\"],\n",
    "      \"like\": \"Sir Ken Robinson makes an entertaining and profoundly moving case for creating an education system that nurtures (rather than undermines) creativity.\",\n",
    "      \"min_term_freq\": 1,\n",
    "      \"max_query_terms\": 50,\n",
    "      \"min_doc_freq\": 4\n",
    "    }\n",
    "  }\n",
    "}\n",
    "\n",
    "GET ted/_doc/_search\n",
    "{\n",
    "  \"query\":{\n",
    "    \"match\":{\n",
    "      \"main_speaker\":\"Ken Robinson\"\n",
    "    }\n",
    "  }\n",
    "}\n",
    "```"
   ]
  },
  {
   "cell_type": "code",
   "execution_count": null,
   "metadata": {},
   "outputs": [],
   "source": []
  }
 ],
 "metadata": {
  "kernelspec": {
   "display_name": "Python 3",
   "language": "python",
   "name": "python3"
  },
  "language_info": {
   "codemirror_mode": {
    "name": "ipython",
    "version": 3
   },
   "file_extension": ".py",
   "mimetype": "text/x-python",
   "name": "python",
   "nbconvert_exporter": "python",
   "pygments_lexer": "ipython3",
   "version": "3.7.1"
  }
 },
 "nbformat": 4,
 "nbformat_minor": 2
}
