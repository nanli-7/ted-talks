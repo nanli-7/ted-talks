{
 "cells": [
  {
   "cell_type": "code",
   "execution_count": 1,
   "metadata": {},
   "outputs": [],
   "source": [
    "import pandas"
   ]
  },
  {
   "cell_type": "code",
   "execution_count": 2,
   "metadata": {},
   "outputs": [],
   "source": [
    "df = pandas.read_csv('transcripts.csv')"
   ]
  },
  {
   "cell_type": "code",
   "execution_count": 3,
   "metadata": {},
   "outputs": [
    {
     "data": {
      "text/html": [
       "<div>\n",
       "<style scoped>\n",
       "    .dataframe tbody tr th:only-of-type {\n",
       "        vertical-align: middle;\n",
       "    }\n",
       "\n",
       "    .dataframe tbody tr th {\n",
       "        vertical-align: top;\n",
       "    }\n",
       "\n",
       "    .dataframe thead th {\n",
       "        text-align: right;\n",
       "    }\n",
       "</style>\n",
       "<table border=\"1\" class=\"dataframe\">\n",
       "  <thead>\n",
       "    <tr style=\"text-align: right;\">\n",
       "      <th></th>\n",
       "      <th>transcript</th>\n",
       "      <th>url</th>\n",
       "    </tr>\n",
       "  </thead>\n",
       "  <tbody>\n",
       "    <tr>\n",
       "      <th>0</th>\n",
       "      <td>Good morning. How are you?(Laughter)It's been ...</td>\n",
       "      <td>https://www.ted.com/talks/ken_robinson_says_sc...</td>\n",
       "    </tr>\n",
       "    <tr>\n",
       "      <th>1</th>\n",
       "      <td>Thank you so much, Chris. And it's truly a gre...</td>\n",
       "      <td>https://www.ted.com/talks/al_gore_on_averting_...</td>\n",
       "    </tr>\n",
       "    <tr>\n",
       "      <th>2</th>\n",
       "      <td>(Music: \"The Sound of Silence,\" Simon &amp; Garfun...</td>\n",
       "      <td>https://www.ted.com/talks/david_pogue_says_sim...</td>\n",
       "    </tr>\n",
       "    <tr>\n",
       "      <th>3</th>\n",
       "      <td>If you're here today — and I'm very happy that...</td>\n",
       "      <td>https://www.ted.com/talks/majora_carter_s_tale...</td>\n",
       "    </tr>\n",
       "    <tr>\n",
       "      <th>4</th>\n",
       "      <td>About 10 years ago, I took on the task to teac...</td>\n",
       "      <td>https://www.ted.com/talks/hans_rosling_shows_t...</td>\n",
       "    </tr>\n",
       "  </tbody>\n",
       "</table>\n",
       "</div>"
      ],
      "text/plain": [
       "                                          transcript  \\\n",
       "0  Good morning. How are you?(Laughter)It's been ...   \n",
       "1  Thank you so much, Chris. And it's truly a gre...   \n",
       "2  (Music: \"The Sound of Silence,\" Simon & Garfun...   \n",
       "3  If you're here today — and I'm very happy that...   \n",
       "4  About 10 years ago, I took on the task to teac...   \n",
       "\n",
       "                                                 url  \n",
       "0  https://www.ted.com/talks/ken_robinson_says_sc...  \n",
       "1  https://www.ted.com/talks/al_gore_on_averting_...  \n",
       "2  https://www.ted.com/talks/david_pogue_says_sim...  \n",
       "3  https://www.ted.com/talks/majora_carter_s_tale...  \n",
       "4  https://www.ted.com/talks/hans_rosling_shows_t...  "
      ]
     },
     "execution_count": 3,
     "metadata": {},
     "output_type": "execute_result"
    }
   ],
   "source": [
    "df.head()"
   ]
  },
  {
   "cell_type": "code",
   "execution_count": 4,
   "metadata": {},
   "outputs": [
    {
     "data": {
      "text/plain": [
       "transcript    object\n",
       "url           object\n",
       "dtype: object"
      ]
     },
     "execution_count": 4,
     "metadata": {},
     "output_type": "execute_result"
    }
   ],
   "source": [
    "df.dtypes"
   ]
  },
  {
   "cell_type": "code",
   "execution_count": 5,
   "metadata": {},
   "outputs": [],
   "source": [
    "ted = pandas.read_csv('ted_main.csv')"
   ]
  },
  {
   "cell_type": "markdown",
   "metadata": {},
   "source": [
    "## 1. Text Preprocessing"
   ]
  },
  {
   "cell_type": "code",
   "execution_count": 6,
   "metadata": {},
   "outputs": [],
   "source": [
    "import string"
   ]
  },
  {
   "cell_type": "code",
   "execution_count": 7,
   "metadata": {},
   "outputs": [],
   "source": [
    "import nltk"
   ]
  },
  {
   "cell_type": "markdown",
   "metadata": {},
   "source": [
    "### Step 1: Tokenization"
   ]
  },
  {
   "cell_type": "markdown",
   "metadata": {},
   "source": [
    "* The tokenize method breaks raw strings into words and punctuation"
   ]
  },
  {
   "cell_type": "code",
   "execution_count": 8,
   "metadata": {},
   "outputs": [
    {
     "name": "stdout",
     "output_type": "stream",
     "text": [
      "['Good', 'morning', '.', 'How', 'are', 'you', '?(', 'Laughter', ')', 'It', \"'\", 's', 'been', 'great', ',', 'hasn', \"'\", 't', 'it', '?', 'I', \"'\", 've', 'been', 'blown', 'away', 'by', 'the', 'whole', 'thing', '.', 'In', 'fact', ',', 'I', \"'\", 'm', 'leaving', '.(', 'Laughter', ')', 'There', 'have', 'been', 'three', 'themes', 'running', 'through', 'the', 'conference', 'which', 'are', 'relevant', 'to', 'what', 'I', 'want', 'to', 'talk', 'about', '.', 'One', 'is', 'the', 'extraordinary', 'evidence', 'of', 'human', 'creativity', 'in', 'all', 'of', 'the', 'presentations', 'that', 'we', \"'\", 've', 'had', 'and', 'in', 'all', 'of', 'the', 'people', 'here', '.', 'Just', 'the', 'variety', 'of', 'it', 'and', 'the', 'range', 'of', 'it', '.', 'The', 'second', 'is', 'that', 'it', \"'\", 's', 'put', 'us', 'in', 'a', 'place', 'where', 'we', 'have', 'no', 'idea', 'what', \"'\", 's', 'going', 'to', 'happen', ',', 'in', 'terms', 'of', 'the', 'future', '.', 'No', 'idea', 'how', 'this', 'may', 'play', 'out', '.', 'I', 'have', 'an', 'interest', 'in', 'education', '.', 'Actually', ',', 'what', 'I', 'find', 'is', 'everybody', 'has', 'an', 'interest', 'in', 'education', '.', 'Don', \"'\", 't', 'you', '?', 'I', 'find', 'this', 'very', 'interesting', '.', 'If', 'you', \"'\", 're', 'at', 'a', 'dinner', 'party', ',', 'and', 'you', 'say', 'you', 'work', 'in', 'education', '—', 'Actually', ',', 'you', \"'\", 're', 'not', 'often', 'at', 'dinner', 'parties', ',', 'frankly', '.(', 'Laughter', ')', 'If', 'you', 'work', 'in', 'education', ',', 'you', \"'\", 're', 'not', 'asked', '.(', 'Laughter', ')', 'And', 'you', \"'\", 're', 'never', 'asked', 'back', ',', 'curiously', '.', 'That', \"'\", 's', 'strange', 'to', 'me', '.', 'But', 'if', 'you', 'are', ',', 'and', 'you', 'say', 'to', 'somebody', ',', 'you', 'know', ',', 'they', 'say', ',', '\"', 'What', 'do', 'you', 'do', '?\"', 'and', 'you', 'say', 'you', 'work', 'in', 'education', ',', 'you', 'can', 'see', 'the', 'blood', 'run', 'from', 'their', 'face', '.', 'They', \"'\", 're', 'like', ',', '\"', 'Oh', 'my', 'God', ',\"', 'you', 'know', ',', '\"', 'Why', 'me', '?\"(', 'Laughter', ')\"', 'My', 'one', 'night', 'out', 'all', 'week', '.\"(', 'Laughter', ')', 'But', 'if', 'you', 'ask', 'about', 'their', 'education', ',', 'they', 'pin', 'you', 'to', 'the', 'wall', '.', 'Because', 'it', \"'\", 's', 'one', 'of', 'those', 'things', 'that', 'goes', 'deep', 'with', 'people', ',', 'am', 'I', 'right', '?', 'Like', 'religion', ',', 'and', 'money', 'and', 'other', 'things', '.', 'So', 'I', 'have', 'a', 'big', 'interest', 'in', 'education', ',', 'and', 'I', 'think', 'we', 'all', 'do', '.', 'We', 'have', 'a', 'huge', 'vested', 'interest', 'in', 'it', ',', 'partly', 'because', 'it', \"'\", 's', 'education', 'that', \"'\", 's', 'meant', 'to', 'take', 'us', 'into', 'this', 'future', 'that', 'we', 'can', \"'\", 't', 'grasp', '.', 'If', 'you', 'think', 'of', 'it', ',', 'children', 'starting', 'school', 'this', 'year', 'will', 'be', 'retiring', 'in', '2065', '.', 'Nobody', 'has', 'a', 'clue', ',', 'despite', 'all', 'the', 'expertise', 'that', \"'\", 's', 'been', 'on', 'parade', 'for', 'the', 'past', 'four', 'days', ',', 'what', 'the', 'world', 'will', 'look', 'like', 'in', 'five', 'years', \"'\", 'time', '.', 'And', 'yet', 'we', \"'\", 're', 'meant', 'to', 'be', 'educating', 'them', 'for', 'it', '.', 'So', 'the', 'unpredictability', ',', 'I', 'think', ',', 'is', 'extraordinary', '.', 'And', 'the', 'third', 'part', 'of', 'this', 'is', 'that', 'we', \"'\", 've', 'all', 'agreed', ',', 'nonetheless', ',', 'on', 'the', 'really', 'extraordinary', 'capacities', 'that', 'children', 'have', '—', 'their', 'capacities', 'for', 'innovation', '.', 'I', 'mean', ',', 'Sirena', 'last', 'night', 'was', 'a', 'marvel', ',', 'wasn', \"'\", 't', 'she', '?', 'Just', 'seeing', 'what', 'she', 'could', 'do', '.', 'And', 'she', \"'\", 's', 'exceptional', ',', 'but', 'I', 'think', 'she', \"'\", 's', 'not', ',', 'so', 'to', 'speak', ',', 'exceptional', 'in', 'the', 'whole', 'of', 'childhood', '.', 'What', 'you', 'have', 'there', 'is', 'a', 'person', 'of', 'extraordinary', 'dedication', 'who', 'found', 'a', 'talent', '.', 'And', 'my', 'contention', 'is', ',', 'all', 'kids', 'have', 'tremendous', 'talents', '.', 'And', 'we', 'squander', 'them', ',', 'pretty', 'ruthlessly', '.', 'So', 'I', 'want', 'to', 'talk', 'about', 'education', 'and', 'I', 'want', 'to', 'talk', 'about', 'creativity', '.', 'My', 'contention', 'is', 'that', 'creativity', 'now', 'is', 'as', 'important', 'in', 'education', 'as', 'literacy', ',', 'and', 'we', 'should', 'treat', 'it', 'with', 'the', 'same', 'status', '.(', 'Applause', ')', 'Thank', 'you', '.(', 'Applause', ')', 'That', 'was', 'it', ',', 'by', 'the', 'way', '.', 'Thank', 'you', 'very', 'much', '.(', 'Laughter', ')', 'So', ',', '15', 'minutes', 'left', '.(', 'Laughter', ')', 'Well', ',', 'I', 'was', 'born', '...', 'no', '.(', 'Laughter', ')', 'I', 'heard', 'a', 'great', 'story', 'recently', '—', 'I', 'love', 'telling', 'it', '—', 'of', 'a', 'little', 'girl', 'who', 'was', 'in', 'a', 'drawing', 'lesson', '.', 'She', 'was', 'six', ',', 'and', 'she', 'was', 'at', 'the', 'back', ',', 'drawing', ',', 'and', 'the', 'teacher', 'said', 'this', 'girl', 'hardly', 'ever', 'paid', 'attention', ',', 'and', 'in', 'this', 'drawing', 'lesson', ',', 'she', 'did', '.', 'The', 'teacher', 'was', 'fascinated', '.', 'She', 'went', 'over', 'to', 'her', ',', 'and', 'she', 'said', ',', '\"', 'What', 'are', 'you', 'drawing', '?\"', 'And', 'the', 'girl', 'said', ',', '\"', 'I', \"'\", 'm', 'drawing', 'a', 'picture', 'of', 'God', '.\"', 'And', 'the', 'teacher', 'said', ',', '\"', 'But', 'nobody', 'knows', 'what', 'God', 'looks', 'like', '.\"', 'And', 'the', 'girl', 'said', ',', '\"', 'They', 'will', ',', 'in', 'a', 'minute', '.\"(', 'Laughter', ')', 'When', 'my', 'son', 'was', 'four', 'in', 'England', '—', 'Actually', ',', 'he', 'was', 'four', 'everywhere', ',', 'to', 'be', 'honest', '.(', 'Laughter', ')', 'If', 'we', \"'\", 're', 'being', 'strict', 'about', 'it', ',', 'wherever', 'he', 'went', ',', 'he', 'was', 'four', 'that', 'year', '.', 'He', 'was', 'in', 'the', 'Nativity', 'play', '.', 'Do', 'you', 'remember', 'the', 'story', '?(', 'Laughter', ')', 'No', ',', 'it', 'was', 'big', ',', 'it', 'was', 'a', 'big', 'story', '.', 'Mel', 'Gibson', 'did', 'the', 'sequel', ',', 'you', 'may', 'have', 'seen', 'it', '.(', 'Laughter', ')\"', 'Nativity', 'II', '.\"', 'But', 'James', 'got', 'the', 'part', 'of', 'Joseph', ',', 'which', 'we', 'were', 'thrilled', 'about', '.', 'We', 'considered', 'this', 'to', 'be', 'one', 'of', 'the', 'lead', 'parts', '.', 'We', 'had', 'the', 'place', 'crammed', 'full', 'of', 'agents', 'in', 'T', '-', 'shirts', ':', '\"', 'James', 'Robinson', 'IS', 'Joseph', '!\"', '(', 'Laughter', ')', 'He', 'didn', \"'\", 't', 'have', 'to', 'speak', ',', 'but', 'you', 'know', 'the', 'bit', 'where', 'the', 'three', 'kings', 'come', 'in', '?', 'They', 'come', 'in', 'bearing', 'gifts', ',', 'gold', ',', 'frankincense', 'and', 'myrrh', '.', 'This', 'really', 'happened', '.', 'We', 'were', 'sitting', 'there', 'and', 'I', 'think', 'they', 'just', 'went', 'out', 'of', 'sequence', ',', 'because', 'we', 'talked', 'to', 'the', 'little', 'boy', 'afterward', 'and', 'we', 'said', ',', '\"', 'You', 'OK', 'with', 'that', '?\"', 'And', 'he', 'said', ',', '\"', 'Yeah', ',', 'why', '?', 'Was', 'that', 'wrong', '?\"', 'They', 'just', 'switched', '.', 'The', 'three', 'boys', 'came', 'in', ',', 'four', '-', 'year', '-', 'olds', 'with', 'tea', 'towels', 'on', 'their', 'heads', ',', 'and', 'they', 'put', 'these', 'boxes', 'down', ',', 'and', 'the', 'first', 'boy', 'said', ',', '\"', 'I', 'bring', 'you', 'gold', '.\"', 'And', 'the', 'second', 'boy', 'said', ',', '\"', 'I', 'bring', 'you', 'myrrh', '.\"', 'And', 'the', 'third', 'boy', 'said', ',', '\"', 'Frank', 'sent', 'this', '.\"(', 'Laughter', ')', 'What', 'these', 'things', 'have', 'in', 'common', 'is', 'that', 'kids', 'will', 'take', 'a', 'chance', '.', 'If', 'they', 'don', \"'\", 't', 'know', ',', 'they', \"'\", 'll', 'have', 'a', 'go', '.', 'Am', 'I', 'right', '?', 'They', \"'\", 're', 'not', 'frightened', 'of', 'being', 'wrong', '.', 'I', 'don', \"'\", 't', 'mean', 'to', 'say', 'that', 'being', 'wrong', 'is', 'the', 'same', 'thing', 'as', 'being', 'creative', '.', 'What', 'we', 'do', 'know', 'is', ',', 'if', 'you', \"'\", 're', 'not', 'prepared', 'to', 'be', 'wrong', ',', 'you', \"'\", 'll', 'never', 'come', 'up', 'with', 'anything', 'original', '—', 'if', 'you', \"'\", 're', 'not', 'prepared', 'to', 'be', 'wrong', '.', 'And', 'by', 'the', 'time', 'they', 'get', 'to', 'be', 'adults', ',', 'most', 'kids', 'have', 'lost', 'that', 'capacity', '.', 'They', 'have', 'become', 'frightened', 'of', 'being', 'wrong', '.', 'And', 'we', 'run', 'our', 'companies', 'like', 'this', '.', 'We', 'stigmatize', 'mistakes', '.', 'And', 'we', \"'\", 're', 'now', 'running', 'national', 'education', 'systems', 'where', 'mistakes', 'are', 'the', 'worst', 'thing', 'you', 'can', 'make', '.', 'And', 'the', 'result', 'is', 'that', 'we', 'are', 'educating', 'people', 'out', 'of', 'their', 'creative', 'capacities', '.', 'Picasso', 'once', 'said', 'this', ',', 'he', 'said', 'that', 'all', 'children', 'are', 'born', 'artists', '.', 'The', 'problem', 'is', 'to', 'remain', 'an', 'artist', 'as', 'we', 'grow', 'up', '.', 'I', 'believe', 'this', 'passionately', ',', 'that', 'we', 'don', \"'\", 't', 'grow', 'into', 'creativity', ',', 'we', 'grow', 'out', 'of', 'it', '.', 'Or', 'rather', ',', 'we', 'get', 'educated', 'out', 'of', 'it', '.', 'So', 'why', 'is', 'this', '?', 'I', 'lived', 'in', 'Stratford', '-', 'on', '-', 'Avon', 'until', 'about', 'five', 'years', 'ago', '.', 'In', 'fact', ',', 'we', 'moved', 'from', 'Stratford', 'to', 'Los', 'Angeles', '.', 'So', 'you', 'can', 'imagine', 'what', 'a', 'seamless', 'transition', 'that', 'was', '.(', 'Laughter', ')', 'Actually', ',', 'we', 'lived', 'in', 'a', 'place', 'called', 'Snitterfield', ',', 'just', 'outside', 'Stratford', ',', 'which', 'is', 'where', 'Shakespeare', \"'\", 's', 'father', 'was', 'born', '.', 'Are', 'you', 'struck', 'by', 'a', 'new', 'thought', '?', 'I', 'was', '.', 'You', 'don', \"'\", 't', 'think', 'of', 'Shakespeare', 'having', 'a', 'father', ',', 'do', 'you', '?', 'Do', 'you', '?', 'Because', 'you', 'don', \"'\", 't', 'think', 'of', 'Shakespeare', 'being', 'a', 'child', ',', 'do', 'you', '?', 'Shakespeare', 'being', 'seven', '?', 'I', 'never', 'thought', 'of', 'it', '.', 'I', 'mean', ',', 'he', 'was', 'seven', 'at', 'some', 'point', '.', 'He', 'was', 'in', 'somebody', \"'\", 's', 'English', 'class', ',', 'wasn', \"'\", 't', 'he', '?(', 'Laughter', ')', 'How', 'annoying', 'would', 'that', 'be', '?(', 'Laughter', ')\"', 'Must', 'try', 'harder', '.\"(', 'Laughter', ')', 'Being', 'sent', 'to', 'bed', 'by', 'his', 'dad', ',', 'you', 'know', ',', 'to', 'Shakespeare', ',', '\"', 'Go', 'to', 'bed', ',', 'now', '!', 'And', 'put', 'the', 'pencil', 'down', '.\"(', 'Laughter', ')\"', 'And', 'stop', 'speaking', 'like', 'that', '.\"(', 'Laughter', ')\"', 'It', \"'\", 's', 'confusing', 'everybody', '.\"(', 'Laughter', ')', 'Anyway', ',', 'we', 'moved', 'from', 'Stratford', 'to', 'Los', 'Angeles', ',', 'and', 'I', 'just', 'want', 'to', 'say', 'a', 'word', 'about', 'the', 'transition', '.', 'My', 'son', 'didn', \"'\", 't', 'want', 'to', 'come', '.', 'I', \"'\", 've', 'got', 'two', 'kids', ';', 'he', \"'\", 's', '21', 'now', ',', 'my', 'daughter', \"'\", 's', '16', '.', 'He', 'didn', \"'\", 't', 'want', 'to', 'come', 'to', 'Los', 'Angeles', '.', 'He', 'loved', 'it', ',', 'but', 'he', 'had', 'a', 'girlfriend', 'in', 'England', '.', 'This', 'was', 'the', 'love', 'of', 'his', 'life', ',', 'Sarah', '.', 'He', \"'\", 'd', 'known', 'her', 'for', 'a', 'month', '.(', 'Laughter', ')', 'Mind', 'you', ',', 'they', \"'\", 'd', 'had', 'their', 'fourth', 'anniversary', ',', 'because', 'it', \"'\", 's', 'a', 'long', 'time', 'when', 'you', \"'\", 're', '16', '.', 'He', 'was', 'really', 'upset', 'on', 'the', 'plane', ',', 'he', 'said', ',', '\"', 'I', \"'\", 'll', 'never', 'find', 'another', 'girl', 'like', 'Sarah', '.\"', 'And', 'we', 'were', 'rather', 'pleased', 'about', 'that', ',', 'frankly', '—(', 'Laughter', ')', 'Because', 'she', 'was', 'the', 'main', 'reason', 'we', 'were', 'leaving', 'the', 'country', '.(', 'Laughter', ')', 'But', 'something', 'strikes', 'you', 'when', 'you', 'move', 'to', 'America', 'and', 'travel', 'around', 'the', 'world', ':', 'Every', 'education', 'system', 'on', 'Earth', 'has', 'the', 'same', 'hierarchy', 'of', 'subjects', '.', 'Every', 'one', '.', 'Doesn', \"'\", 't', 'matter', 'where', 'you', 'go', '.', 'You', \"'\", 'd', 'think', 'it', 'would', 'be', 'otherwise', ',', 'but', 'it', 'isn', \"'\", 't', '.', 'At', 'the', 'top', 'are', 'mathematics', 'and', 'languages', ',', 'then', 'the', 'humanities', ',', 'and', 'at', 'the', 'bottom', 'are', 'the', 'arts', '.', 'Everywhere', 'on', 'Earth', '.', 'And', 'in', 'pretty', 'much', 'every', 'system', 'too', ',', 'there', \"'\", 's', 'a', 'hierarchy', 'within', 'the', 'arts', '.', 'Art', 'and', 'music', 'are', 'normally', 'given', 'a', 'higher', 'status', 'in', 'schools', 'than', 'drama', 'and', 'dance', '.', 'There', 'isn', \"'\", 't', 'an', 'education', 'system', 'on', 'the', 'planet', 'that', 'teaches', 'dance', 'everyday', 'to', 'children', 'the', 'way', 'we', 'teach', 'them', 'mathematics', '.', 'Why', '?', 'Why', 'not', '?', 'I', 'think', 'this', 'is', 'rather', 'important', '.', 'I', 'think', 'math', 'is', 'very', 'important', ',', 'but', 'so', 'is', 'dance', '.', 'Children', 'dance', 'all', 'the', 'time', 'if', 'they', \"'\", 're', 'allowed', 'to', ',', 'we', 'all', 'do', '.', 'We', 'all', 'have', 'bodies', ',', 'don', \"'\", 't', 'we', '?', 'Did', 'I', 'miss', 'a', 'meeting', '?(', 'Laughter', ')', 'Truthfully', ',', 'what', 'happens', 'is', ',', 'as', 'children', 'grow', 'up', ',', 'we', 'start', 'to', 'educate', 'them', 'progressively', 'from', 'the', 'waist', 'up', '.', 'And', 'then', 'we', 'focus', 'on', 'their', 'heads', '.', 'And', 'slightly', 'to', 'one', 'side', '.', 'If', 'you', 'were', 'to', 'visit', 'education', ',', 'as', 'an', 'alien', ',', 'and', 'say', '\"', 'What', \"'\", 's', 'it', 'for', ',', 'public', 'education', '?\"', 'I', 'think', 'you', \"'\", 'd', 'have', 'to', 'conclude', ',', 'if', 'you', 'look', 'at', 'the', 'output', ',', 'who', 'really', 'succeeds', 'by', 'this', ',', 'who', 'does', 'everything', 'that', 'they', 'should', ',', 'who', 'gets', 'all', 'the', 'brownie', 'points', ',', 'who', 'are', 'the', 'winners', '—', 'I', 'think', 'you', \"'\", 'd', 'have', 'to', 'conclude', 'the', 'whole', 'purpose', 'of', 'public', 'education', 'throughout', 'the', 'world', 'is', 'to', 'produce', 'university', 'professors', '.', 'Isn', \"'\", 't', 'it', '?', 'They', \"'\", 're', 'the', 'people', 'who', 'come', 'out', 'the', 'top', '.', 'And', 'I', 'used', 'to', 'be', 'one', ',', 'so', 'there', '.(', 'Laughter', ')', 'And', 'I', 'like', 'university', 'professors', ',', 'but', 'you', 'know', ',', 'we', 'shouldn', \"'\", 't', 'hold', 'them', 'up', 'as', 'the', 'high', '-', 'water', 'mark', 'of', 'all', 'human', 'achievement', '.', 'They', \"'\", 're', 'just', 'a', 'form', 'of', 'life', ',', 'another', 'form', 'of', 'life', '.', 'But', 'they', \"'\", 're', 'rather', 'curious', ',', 'and', 'I', 'say', 'this', 'out', 'of', 'affection', 'for', 'them', '.', 'There', \"'\", 's', 'something', 'curious', 'about', 'professors', 'in', 'my', 'experience', '—', 'not', 'all', 'of', 'them', ',', 'but', 'typically', ',', 'they', 'live', 'in', 'their', 'heads', '.', 'They', 'live', 'up', 'there', ',', 'and', 'slightly', 'to', 'one', 'side', '.', 'They', \"'\", 're', 'disembodied', ',', 'you', 'know', ',', 'in', 'a', 'kind', 'of', 'literal', 'way', '.', 'They', 'look', 'upon', 'their', 'body', 'as', 'a', 'form', 'of', 'transport', 'for', 'their', 'heads', '.(', 'Laughter', ')', 'Don', \"'\", 't', 'they', '?', 'It', \"'\", 's', 'a', 'way', 'of', 'getting', 'their', 'head', 'to', 'meetings', '.(', 'Laughter', ')', 'If', 'you', 'want', 'real', 'evidence', 'of', 'out', '-', 'of', '-', 'body', 'experiences', ',', 'get', 'yourself', 'along', 'to', 'a', 'residential', 'conference', 'of', 'senior', 'academics', ',', 'and', 'pop', 'into', 'the', 'discotheque', 'on', 'the', 'final', 'night', '.(', 'Laughter', ')', 'And', 'there', ',', 'you', 'will', 'see', 'it', '.', 'Grown', 'men', 'and', 'women', 'writhing', 'uncontrollably', ',', 'off', 'the', 'beat', '.(', 'Laughter', ')', 'Waiting', 'until', 'it', 'ends', 'so', 'they', 'can', 'go', 'home', 'and', 'write', 'a', 'paper', 'about', 'it', '.(', 'Laughter', ')', 'Our', 'education', 'system', 'is', 'predicated', 'on', 'the', 'idea', 'of', 'academic', 'ability', '.', 'And', 'there', \"'\", 's', 'a', 'reason', '.', 'Around', 'the', 'world', ',', 'there', 'were', 'no', 'public', 'systems', 'of', 'education', ',', 'really', ',', 'before', 'the', '19th', 'century', '.', 'They', 'all', 'came', 'into', 'being', 'to', 'meet', 'the', 'needs', 'of', 'industrialism', '.', 'So', 'the', 'hierarchy', 'is', 'rooted', 'on', 'two', 'ideas', '.', 'Number', 'one', ',', 'that', 'the', 'most', 'useful', 'subjects', 'for', 'work', 'are', 'at', 'the', 'top', '.', 'So', 'you', 'were', 'probably', 'steered', 'benignly', 'away', 'from', 'things', 'at', 'school', 'when', 'you', 'were', 'a', 'kid', ',', 'things', 'you', 'liked', ',', 'on', 'the', 'grounds', 'that', 'you', 'would', 'never', 'get', 'a', 'job', 'doing', 'that', '.', 'Is', 'that', 'right', '?', 'Don', \"'\", 't', 'do', 'music', ',', 'you', \"'\", 're', 'not', 'going', 'to', 'be', 'a', 'musician', ';', 'don', \"'\", 't', 'do', 'art', ',', 'you', 'won', \"'\", 't', 'be', 'an', 'artist', '.', 'Benign', 'advice', '—', 'now', ',', 'profoundly', 'mistaken', '.', 'The', 'whole', 'world', 'is', 'engulfed', 'in', 'a', 'revolution', '.', 'And', 'the', 'second', 'is', 'academic', 'ability', ',', 'which', 'has', 'really', 'come', 'to', 'dominate', 'our', 'view', 'of', 'intelligence', ',', 'because', 'the', 'universities', 'designed', 'the', 'system', 'in', 'their', 'image', '.', 'If', 'you', 'think', 'of', 'it', ',', 'the', 'whole', 'system', 'of', 'public', 'education', 'around', 'the', 'world', 'is', 'a', 'protracted', 'process', 'of', 'university', 'entrance', '.', 'And', 'the', 'consequence', 'is', 'that', 'many', 'highly', '-', 'talented', ',', 'brilliant', ',', 'creative', 'people', 'think', 'they', \"'\", 're', 'not', ',', 'because', 'the', 'thing', 'they', 'were', 'good', 'at', 'at', 'school', 'wasn', \"'\", 't', 'valued', ',', 'or', 'was', 'actually', 'stigmatized', '.', 'And', 'I', 'think', 'we', 'can', \"'\", 't', 'afford', 'to', 'go', 'on', 'that', 'way', '.', 'In', 'the', 'next', '30', 'years', ',', 'according', 'to', 'UNESCO', ',', 'more', 'people', 'worldwide', 'will', 'be', 'graduating', 'through', 'education', 'than', 'since', 'the', 'beginning', 'of', 'history', '.', 'More', 'people', ',', 'and', 'it', \"'\", 's', 'the', 'combination', 'of', 'all', 'the', 'things', 'we', \"'\", 've', 'talked', 'about', '—', 'technology', 'and', 'its', 'transformation', 'effect', 'on', 'work', ',', 'and', 'demography', 'and', 'the', 'huge', 'explosion', 'in', 'population', '.', 'Suddenly', ',', 'degrees', 'aren', \"'\", 't', 'worth', 'anything', '.', 'Isn', \"'\", 't', 'that', 'true', '?', 'When', 'I', 'was', 'a', 'student', ',', 'if', 'you', 'had', 'a', 'degree', ',', 'you', 'had', 'a', 'job', '.', 'If', 'you', 'didn', \"'\", 't', 'have', 'a', 'job', ',', 'it', \"'\", 's', 'because', 'you', 'didn', \"'\", 't', 'want', 'one', '.', 'And', 'I', 'didn', \"'\", 't', 'want', 'one', ',', 'frankly', '.', '(', 'Laughter', ')', 'But', 'now', 'kids', 'with', 'degrees', 'are', 'often', 'heading', 'home', 'to', 'carry', 'on', 'playing', 'video', 'games', ',', 'because', 'you', 'need', 'an', 'MA', 'where', 'the', 'previous', 'job', 'required', 'a', 'BA', ',', 'and', 'now', 'you', 'need', 'a', 'PhD', 'for', 'the', 'other', '.', 'It', \"'\", 's', 'a', 'process', 'of', 'academic', 'inflation', '.', 'And', 'it', 'indicates', 'the', 'whole', 'structure', 'of', 'education', 'is', 'shifting', 'beneath', 'our', 'feet', '.', 'We', 'need', 'to', 'radically', 'rethink', 'our', 'view', 'of', 'intelligence', '.', 'We', 'know', 'three', 'things', 'about', 'intelligence', '.', 'One', ',', 'it', \"'\", 's', 'diverse', '.', 'We', 'think', 'about', 'the', 'world', 'in', 'all', 'the', 'ways', 'that', 'we', 'experience', 'it', '.', 'We', 'think', 'visually', ',', 'we', 'think', 'in', 'sound', ',', 'we', 'think', 'kinesthetically', '.', 'We', 'think', 'in', 'abstract', 'terms', ',', 'we', 'think', 'in', 'movement', '.', 'Secondly', ',', 'intelligence', 'is', 'dynamic', '.', 'If', 'you', 'look', 'at', 'the', 'interactions', 'of', 'a', 'human', 'brain', ',', 'as', 'we', 'heard', 'yesterday', 'from', 'a', 'number', 'of', 'presentations', ',', 'intelligence', 'is', 'wonderfully', 'interactive', '.', 'The', 'brain', 'isn', \"'\", 't', 'divided', 'into', 'compartments', '.', 'In', 'fact', ',', 'creativity', '—', 'which', 'I', 'define', 'as', 'the', 'process', 'of', 'having', 'original', 'ideas', 'that', 'have', 'value', '—', 'more', 'often', 'than', 'not', 'comes', 'about', 'through', 'the', 'interaction', 'of', 'different', 'disciplinary', 'ways', 'of', 'seeing', 'things', '.', 'By', 'the', 'way', ',', 'there', \"'\", 's', 'a', 'shaft', 'of', 'nerves', 'that', 'joins', 'the', 'two', 'halves', 'of', 'the', 'brain', 'called', 'the', 'corpus', 'callosum', '.', 'It', \"'\", 's', 'thicker', 'in', 'women', '.', 'Following', 'off', 'from', 'Helen', 'yesterday', ',', 'this', 'is', 'probably', 'why', 'women', 'are', 'better', 'at', 'multi', '-', 'tasking', '.', 'Because', 'you', 'are', ',', 'aren', \"'\", 't', 'you', '?', 'There', \"'\", 's', 'a', 'raft', 'of', 'research', ',', 'but', 'I', 'know', 'it', 'from', 'my', 'personal', 'life', '.', 'If', 'my', 'wife', 'is', 'cooking', 'a', 'meal', 'at', 'home', '—', 'which', 'is', 'not', 'often', ',', 'thankfully', '.(', 'Laughter', ')', 'No', ',', 'she', \"'\", 's', 'good', 'at', 'some', 'things', ',', 'but', 'if', 'she', \"'\", 's', 'cooking', ',', 'she', \"'\", 's', 'dealing', 'with', 'people', 'on', 'the', 'phone', ',', 'she', \"'\", 's', 'talking', 'to', 'the', 'kids', ',', 'she', \"'\", 's', 'painting', 'the', 'ceiling', ',', 'she', \"'\", 's', 'doing', 'open', '-', 'heart', 'surgery', 'over', 'here', '.', 'If', 'I', \"'\", 'm', 'cooking', ',', 'the', 'door', 'is', 'shut', ',', 'the', 'kids', 'are', 'out', ',', 'the', 'phone', \"'\", 's', 'on', 'the', 'hook', ',', 'if', 'she', 'comes', 'in', 'I', 'get', 'annoyed', '.', 'I', 'say', ',', '\"', 'Terry', ',', 'please', ',', 'I', \"'\", 'm', 'trying', 'to', 'fry', 'an', 'egg', 'in', 'here', '.\"(', 'Laughter', ')\"', 'Give', 'me', 'a', 'break', '.\"(', 'Laughter', ')', 'Actually', ',', 'do', 'you', 'know', 'that', 'old', 'philosophical', 'thing', ',', 'if', 'a', 'tree', 'falls', 'in', 'a', 'forest', 'and', 'nobody', 'hears', 'it', ',', 'did', 'it', 'happen', '?', 'Remember', 'that', 'old', 'chestnut', '?', 'I', 'saw', 'a', 'great', 't', '-', 'shirt', 'recently', ',', 'which', 'said', ',', '\"', 'If', 'a', 'man', 'speaks', 'his', 'mind', 'in', 'a', 'forest', ',', 'and', 'no', 'woman', 'hears', 'him', ',', 'is', 'he', 'still', 'wrong', '?\"(', 'Laughter', ')', 'And', 'the', 'third', 'thing', 'about', 'intelligence', 'is', ',', 'it', \"'\", 's', 'distinct', '.', 'I', \"'\", 'm', 'doing', 'a', 'new', 'book', 'at', 'the', 'moment', 'called', '\"', 'Epiphany', ',\"', 'which', 'is', 'based', 'on', 'a', 'series', 'of', 'interviews', 'with', 'people', 'about', 'how', 'they', 'discovered', 'their', 'talent', '.', 'I', \"'\", 'm', 'fascinated', 'by', 'how', 'people', 'got', 'to', 'be', 'there', '.', 'It', \"'\", 's', 'really', 'prompted', 'by', 'a', 'conversation', 'I', 'had', 'with', 'a', 'wonderful', 'woman', 'who', 'maybe', 'most', 'people', 'have', 'never', 'heard', 'of', ',', 'Gillian', 'Lynne', '.', 'Have', 'you', 'heard', 'of', 'her', '?', 'Some', 'have', '.', 'She', \"'\", 's', 'a', 'choreographer', ',', 'and', 'everybody', 'knows', 'her', 'work', '.', 'She', 'did', '\"', 'Cats', '\"', 'and', '\"', 'Phantom', 'of', 'the', 'Opera', '.\"', 'She', \"'\", 's', 'wonderful', '.', 'I', 'used', 'to', 'be', 'on', 'the', 'board', 'of', 'The', 'Royal', 'Ballet', ',', 'as', 'you', 'can', 'see', '.', 'Anyway', ',', 'Gillian', 'and', 'I', 'had', 'lunch', 'one', 'day', 'and', 'I', 'said', ',', '\"', 'How', 'did', 'you', 'get', 'to', 'be', 'a', 'dancer', '?\"', 'It', 'was', 'interesting', '.', 'When', 'she', 'was', 'at', 'school', ',', 'she', 'was', 'really', 'hopeless', '.', 'And', 'the', 'school', ',', 'in', 'the', \"'\", '30s', ',', 'wrote', 'to', 'her', 'parents', 'and', 'said', ',', '\"', 'We', 'think', 'Gillian', 'has', 'a', 'learning', 'disorder', '.\"', 'She', 'couldn', \"'\", 't', 'concentrate', ';', 'she', 'was', 'fidgeting', '.', 'I', 'think', 'now', 'they', \"'\", 'd', 'say', 'she', 'had', 'ADHD', '.', 'Wouldn', \"'\", 't', 'you', '?', 'But', 'this', 'was', 'the', '1930s', ',', 'and', 'ADHD', 'hadn', \"'\", 't', 'been', 'invented', 'at', 'this', 'point', '.', 'It', 'wasn', \"'\", 't', 'an', 'available', 'condition', '.(', 'Laughter', ')', 'People', 'weren', \"'\", 't', 'aware', 'they', 'could', 'have', 'that', '.(', 'Laughter', ')', 'Anyway', ',', 'she', 'went', 'to', 'see', 'this', 'specialist', '.', 'So', ',', 'this', 'oak', '-', 'paneled', 'room', ',', 'and', 'she', 'was', 'there', 'with', 'her', 'mother', ',', 'and', 'she', 'was', 'led', 'and', 'sat', 'on', 'this', 'chair', 'at', 'the', 'end', ',', 'and', 'she', 'sat', 'on', 'her', 'hands', 'for', '20', 'minutes', 'while', 'this', 'man', 'talked', 'to', 'her', 'mother', 'about', 'the', 'problems', 'Gillian', 'was', 'having', 'at', 'school', '.', 'Because', 'she', 'was', 'disturbing', 'people', ';', 'her', 'homework', 'was', 'always', 'late', ';', 'and', 'so', 'on', ',', 'little', 'kid', 'of', 'eight', '.', 'In', 'the', 'end', ',', 'the', 'doctor', 'went', 'and', 'sat', 'next', 'to', 'Gillian', ',', 'and', 'said', ',', '\"', 'I', \"'\", 've', 'listened', 'to', 'all', 'these', 'things', 'your', 'mother', \"'\", 's', 'told', 'me', ',', 'I', 'need', 'to', 'speak', 'to', 'her', 'privately', '.', 'Wait', 'here', '.', 'We', \"'\", 'll', 'be', 'back', ';', 'we', 'won', \"'\", 't', 'be', 'very', 'long', ',\"', 'and', 'they', 'went', 'and', 'left', 'her', '.', 'But', 'as', 'they', 'went', 'out', 'of', 'the', 'room', ',', 'he', 'turned', 'on', 'the', 'radio', 'that', 'was', 'sitting', 'on', 'his', 'desk', '.', 'And', 'when', 'they', 'got', 'out', ',', 'he', 'said', 'to', 'her', 'mother', ',', '\"', 'Just', 'stand', 'and', 'watch', 'her', '.\"', 'And', 'the', 'minute', 'they', 'left', 'the', 'room', ',', 'she', 'was', 'on', 'her', 'feet', ',', 'moving', 'to', 'the', 'music', '.', 'And', 'they', 'watched', 'for', 'a', 'few', 'minutes', 'and', 'he', 'turned', 'to', 'her', 'mother', 'and', 'said', ',', '\"', 'Mrs', '.', 'Lynne', ',', 'Gillian', 'isn', \"'\", 't', 'sick', ';', 'she', \"'\", 's', 'a', 'dancer', '.', 'Take', 'her', 'to', 'a', 'dance', 'school', '.\"', 'I', 'said', ',', '\"', 'What', 'happened', '?\"', 'She', 'said', ',', '\"', 'She', 'did', '.', 'I', 'can', \"'\", 't', 'tell', 'you', 'how', 'wonderful', 'it', 'was', '.', 'We', 'walked', 'in', 'this', 'room', 'and', 'it', 'was', 'full', 'of', 'people', 'like', 'me', '.', 'People', 'who', 'couldn', \"'\", 't', 'sit', 'still', '.', 'People', 'who', 'had', 'to', 'move', 'to', 'think', '.\"', 'Who', 'had', 'to', 'move', 'to', 'think', '.', 'They', 'did', 'ballet', ',', 'they', 'did', 'tap', ',', 'jazz', ';', 'they', 'did', 'modern', ';', 'they', 'did', 'contemporary', '.', 'She', 'was', 'eventually', 'auditioned', 'for', 'the', 'Royal', 'Ballet', 'School', ';', 'she', 'became', 'a', 'soloist', ';', 'she', 'had', 'a', 'wonderful', 'career', 'at', 'the', 'Royal', 'Ballet', '.', 'She', 'eventually', 'graduated', 'from', 'the', 'Royal', 'Ballet', 'School', ',', 'founded', 'the', 'Gillian', 'Lynne', 'Dance', 'Company', ',', 'met', 'Andrew', 'Lloyd', 'Webber', '.', 'She', \"'\", 's', 'been', 'responsible', 'for', 'some', 'of', 'the', 'most', 'successful', 'musical', 'theater', 'productions', 'in', 'history', ',', 'she', \"'\", 's', 'given', 'pleasure', 'to', 'millions', ',', 'and', 'she', \"'\", 's', 'a', 'multi', '-', 'millionaire', '.', 'Somebody', 'else', 'might', 'have', 'put', 'her', 'on', 'medication', 'and', 'told', 'her', 'to', 'calm', 'down', '.(', 'Applause', ')', 'What', 'I', 'think', 'it', 'comes', 'to', 'is', 'this', ':', 'Al', 'Gore', 'spoke', 'the', 'other', 'night', 'about', 'ecology', 'and', 'the', 'revolution', 'that', 'was', 'triggered', 'by', 'Rachel', 'Carson', '.', 'I', 'believe', 'our', 'only', 'hope', 'for', 'the', 'future', 'is', 'to', 'adopt', 'a', 'new', 'conception', 'of', 'human', 'ecology', ',', 'one', 'in', 'which', 'we', 'start', 'to', 'reconstitute', 'our', 'conception', 'of', 'the', 'richness', 'of', 'human', 'capacity', '.', 'Our', 'education', 'system', 'has', 'mined', 'our', 'minds', 'in', 'the', 'way', 'that', 'we', 'strip', '-', 'mine', 'the', 'earth', ':', 'for', 'a', 'particular', 'commodity', '.', 'And', 'for', 'the', 'future', ',', 'it', 'won', \"'\", 't', 'serve', 'us', '.', 'We', 'have', 'to', 'rethink', 'the', 'fundamental', 'principles', 'on', 'which', 'we', \"'\", 're', 'educating', 'our', 'children', '.', 'There', 'was', 'a', 'wonderful', 'quote', 'by', 'Jonas', 'Salk', ',', 'who', 'said', ',', '\"', 'If', 'all', 'the', 'insects', 'were', 'to', 'disappear', 'from', 'the', 'Earth', ',', 'within', '50', 'years', 'all', 'life', 'on', 'Earth', 'would', 'end', '.', 'If', 'all', 'human', 'beings', 'disappeared', 'from', 'the', 'Earth', ',', 'within', '50', 'years', 'all', 'forms', 'of', 'life', 'would', 'flourish', '.\"', 'And', 'he', \"'\", 's', 'right', '.', 'What', 'TED', 'celebrates', 'is', 'the', 'gift', 'of', 'the', 'human', 'imagination', '.', 'We', 'have', 'to', 'be', 'careful', 'now', 'that', 'we', 'use', 'this', 'gift', 'wisely', 'and', 'that', 'we', 'avert', 'some', 'of', 'the', 'scenarios', 'that', 'we', \"'\", 've', 'talked', 'about', '.', 'And', 'the', 'only', 'way', 'we', \"'\", 'll', 'do', 'it', 'is', 'by', 'seeing', 'our', 'creative', 'capacities', 'for', 'the', 'richness', 'they', 'are', 'and', 'seeing', 'our', 'children', 'for', 'the', 'hope', 'that', 'they', 'are', '.', 'And', 'our', 'task', 'is', 'to', 'educate', 'their', 'whole', 'being', ',', 'so', 'they', 'can', 'face', 'this', 'future', '.', 'By', 'the', 'way', '—', 'we', 'may', 'not', 'see', 'this', 'future', ',', 'but', 'they', 'will', '.', 'And', 'our', 'job', 'is', 'to', 'help', 'them', 'make', 'something', 'of', 'it', '.', 'Thank', 'you', 'very', 'much', '.(', 'Applause', ')']\n"
     ]
    }
   ],
   "source": [
    "# take test function for the first record\n",
    "sample_word_tokens = nltk.wordpunct_tokenize(df.transcript[0])\n",
    "print(sample_word_tokens)"
   ]
  },
  {
   "cell_type": "code",
   "execution_count": 19,
   "metadata": {},
   "outputs": [],
   "source": [
    "# apply to the entire datasets\n",
    "df['word_tokens'] = df.transcript.apply(lambda x: nltk.wordpunct_tokenize(x))"
   ]
  },
  {
   "cell_type": "markdown",
   "metadata": {},
   "source": [
    "### Step 2: Normalization"
   ]
  },
  {
   "cell_type": "markdown",
   "metadata": {},
   "source": [
    "* Normalization generally refers to a series of related tasks meant to put all text on a level playing field: converting all text to the same case (upper or lower), removing punctuation, converting numbers to their word equivalents, and so on.\n",
    "\n",
    "* If the token is a stopword or if every character is punctuation, the token is ignored. If it is not ignored, the part of speech is used to lemmatize the token, which is then yielded."
   ]
  },
  {
   "cell_type": "code",
   "execution_count": 10,
   "metadata": {},
   "outputs": [],
   "source": [
    "import unicodedata"
   ]
  },
  {
   "cell_type": "code",
   "execution_count": 11,
   "metadata": {},
   "outputs": [],
   "source": [
    "import re"
   ]
  },
  {
   "cell_type": "code",
   "execution_count": 12,
   "metadata": {},
   "outputs": [],
   "source": [
    "import inflect"
   ]
  },
  {
   "cell_type": "code",
   "execution_count": 13,
   "metadata": {},
   "outputs": [],
   "source": [
    "stopwords = nltk.corpus.stopwords.words('english')"
   ]
  },
  {
   "cell_type": "code",
   "execution_count": 14,
   "metadata": {},
   "outputs": [],
   "source": [
    "punct = set(string.punctuation)"
   ]
  },
  {
   "cell_type": "code",
   "execution_count": 15,
   "metadata": {},
   "outputs": [],
   "source": [
    "p = inflect.engine()"
   ]
  },
  {
   "cell_type": "code",
   "execution_count": 16,
   "metadata": {},
   "outputs": [],
   "source": [
    "# Create function to normalize words from list of tokenized words\"\"\"\n",
    "def normalize(list_of_tokens):\n",
    "    new_word_list = []\n",
    "    for word in list_of_tokens:\n",
    "        \n",
    "        # remove non-ASCII characters from list\n",
    "        new_word = unicodedata.normalize('NFKD', word).encode('ascii', 'ignore').decode('utf-8', 'ignore')\n",
    "        \n",
    "        # Convert all characters to lowercase \n",
    "        new_word = new_word.lower() \n",
    "        \n",
    "        new_word = new_word.strip('—')\n",
    "        \n",
    "        # Replace all interger occurrences with textual representation\n",
    "        if word.isdigit():\n",
    "            new_word = p.number_to_words(word)\n",
    "        \n",
    "        # If stopword, ignore token and continue\n",
    "        if new_word in stopwords:\n",
    "            continue\n",
    "            \n",
    "        # If punctuation, ignore token and continue\n",
    "        if all(char in punct for char in new_word):\n",
    "            continue\n",
    "            \n",
    "        new_word_list.append(new_word)\n",
    "        \n",
    "    return new_word_list"
   ]
  },
  {
   "cell_type": "code",
   "execution_count": 18,
   "metadata": {},
   "outputs": [
    {
     "name": "stdout",
     "output_type": "stream",
     "text": [
      "['good', 'morning', 'laughter', 'great', 'blown', 'away', 'whole', 'thing', 'fact', 'leaving', 'laughter', 'three', 'themes', 'running', 'conference', 'relevant', 'want', 'talk', 'one', 'extraordinary', 'evidence', 'human', 'creativity', 'presentations', 'people', 'variety', 'range', 'second', 'put', 'us', 'place', 'idea', 'going', 'happen', 'terms', 'future', 'idea', 'may', 'play', 'interest', 'education', 'actually', 'find', 'everybody', 'interest', 'education', 'find', 'interesting', 'dinner', 'party', 'say', 'work', 'education', 'actually', 'often', 'dinner', 'parties', 'frankly', 'laughter', 'work', 'education', 'asked', 'laughter', 'never', 'asked', 'back', 'curiously', 'strange', 'say', 'somebody', 'know', 'say', 'say', 'work', 'education', 'see', 'blood', 'run', 'face', 'like', 'oh', 'god', 'know', 'laughter', 'one', 'night', 'week', 'laughter', 'ask', 'education', 'pin', 'wall', 'one', 'things', 'goes', 'deep', 'people', 'right', 'like', 'religion', 'money', 'things', 'big', 'interest', 'education', 'think', 'huge', 'vested', 'interest', 'partly', 'education', 'meant', 'take', 'us', 'future', 'grasp', 'think', 'children', 'starting', 'school', 'year', 'retiring', 'two thousand and sixty-five', 'nobody', 'clue', 'despite', 'expertise', 'parade', 'past', 'four', 'days', 'world', 'look', 'like', 'five', 'years', 'time', 'yet', 'meant', 'educating', 'unpredictability', 'think', 'extraordinary', 'third', 'part', 'agreed', 'nonetheless', 'really', 'extraordinary', 'capacities', 'children', 'capacities', 'innovation', 'mean', 'sirena', 'last', 'night', 'marvel', 'seeing', 'could', 'exceptional', 'think', 'speak', 'exceptional', 'whole', 'childhood', 'person', 'extraordinary', 'dedication', 'found', 'talent', 'contention', 'kids', 'tremendous', 'talents', 'squander', 'pretty', 'ruthlessly', 'want', 'talk', 'education', 'want', 'talk', 'creativity', 'contention', 'creativity', 'important', 'education', 'literacy', 'treat', 'status', 'applause', 'thank', 'applause', 'way', 'thank', 'much', 'laughter', 'fifteen', 'minutes', 'left', 'laughter', 'well', 'born', 'laughter', 'heard', 'great', 'story', 'recently', 'love', 'telling', 'little', 'girl', 'drawing', 'lesson', 'six', 'back', 'drawing', 'teacher', 'said', 'girl', 'hardly', 'ever', 'paid', 'attention', 'drawing', 'lesson', 'teacher', 'fascinated', 'went', 'said', 'drawing', 'girl', 'said', 'drawing', 'picture', 'god', 'teacher', 'said', 'nobody', 'knows', 'god', 'looks', 'like', 'girl', 'said', 'minute', 'laughter', 'son', 'four', 'england', 'actually', 'four', 'everywhere', 'honest', 'laughter', 'strict', 'wherever', 'went', 'four', 'year', 'nativity', 'play', 'remember', 'story', 'laughter', 'big', 'big', 'story', 'mel', 'gibson', 'sequel', 'may', 'seen', 'laughter', 'nativity', 'ii', 'james', 'got', 'part', 'joseph', 'thrilled', 'considered', 'one', 'lead', 'parts', 'place', 'crammed', 'full', 'agents', 'shirts', 'james', 'robinson', 'joseph', 'laughter', 'speak', 'know', 'bit', 'three', 'kings', 'come', 'come', 'bearing', 'gifts', 'gold', 'frankincense', 'myrrh', 'really', 'happened', 'sitting', 'think', 'went', 'sequence', 'talked', 'little', 'boy', 'afterward', 'said', 'ok', 'said', 'yeah', 'wrong', 'switched', 'three', 'boys', 'came', 'four', 'year', 'olds', 'tea', 'towels', 'heads', 'put', 'boxes', 'first', 'boy', 'said', 'bring', 'gold', 'second', 'boy', 'said', 'bring', 'myrrh', 'third', 'boy', 'said', 'frank', 'sent', 'laughter', 'things', 'common', 'kids', 'take', 'chance', 'know', 'go', 'right', 'frightened', 'wrong', 'mean', 'say', 'wrong', 'thing', 'creative', 'know', 'prepared', 'wrong', 'never', 'come', 'anything', 'original', 'prepared', 'wrong', 'time', 'get', 'adults', 'kids', 'lost', 'capacity', 'become', 'frightened', 'wrong', 'run', 'companies', 'like', 'stigmatize', 'mistakes', 'running', 'national', 'education', 'systems', 'mistakes', 'worst', 'thing', 'make', 'result', 'educating', 'people', 'creative', 'capacities', 'picasso', 'said', 'said', 'children', 'born', 'artists', 'problem', 'remain', 'artist', 'grow', 'believe', 'passionately', 'grow', 'creativity', 'grow', 'rather', 'get', 'educated', 'lived', 'stratford', 'avon', 'five', 'years', 'ago', 'fact', 'moved', 'stratford', 'los', 'angeles', 'imagine', 'seamless', 'transition', 'laughter', 'actually', 'lived', 'place', 'called', 'snitterfield', 'outside', 'stratford', 'shakespeare', 'father', 'born', 'struck', 'new', 'thought', 'think', 'shakespeare', 'father', 'think', 'shakespeare', 'child', 'shakespeare', 'seven', 'never', 'thought', 'mean', 'seven', 'point', 'somebody', 'english', 'class', 'laughter', 'annoying', 'would', 'laughter', 'must', 'try', 'harder', 'laughter', 'sent', 'bed', 'dad', 'know', 'shakespeare', 'go', 'bed', 'put', 'pencil', 'laughter', 'stop', 'speaking', 'like', 'laughter', 'confusing', 'everybody', 'laughter', 'anyway', 'moved', 'stratford', 'los', 'angeles', 'want', 'say', 'word', 'transition', 'son', 'want', 'come', 'got', 'two', 'kids', 'twenty-one', 'daughter', 'sixteen', 'want', 'come', 'los', 'angeles', 'loved', 'girlfriend', 'england', 'love', 'life', 'sarah', 'known', 'month', 'laughter', 'mind', 'fourth', 'anniversary', 'long', 'time', 'sixteen', 'really', 'upset', 'plane', 'said', 'never', 'find', 'another', 'girl', 'like', 'sarah', 'rather', 'pleased', 'frankly', 'laughter', 'main', 'reason', 'leaving', 'country', 'laughter', 'something', 'strikes', 'move', 'america', 'travel', 'around', 'world', 'every', 'education', 'system', 'earth', 'hierarchy', 'subjects', 'every', 'one', 'matter', 'go', 'think', 'would', 'otherwise', 'top', 'mathematics', 'languages', 'humanities', 'bottom', 'arts', 'everywhere', 'earth', 'pretty', 'much', 'every', 'system', 'hierarchy', 'within', 'arts', 'art', 'music', 'normally', 'given', 'higher', 'status', 'schools', 'drama', 'dance', 'education', 'system', 'planet', 'teaches', 'dance', 'everyday', 'children', 'way', 'teach', 'mathematics', 'think', 'rather', 'important', 'think', 'math', 'important', 'dance', 'children', 'dance', 'time', 'allowed', 'bodies', 'miss', 'meeting', 'laughter', 'truthfully', 'happens', 'children', 'grow', 'start', 'educate', 'progressively', 'waist', 'focus', 'heads', 'slightly', 'one', 'side', 'visit', 'education', 'alien', 'say', 'public', 'education', 'think', 'conclude', 'look', 'output', 'really', 'succeeds', 'everything', 'gets', 'brownie', 'points', 'winners', 'think', 'conclude', 'whole', 'purpose', 'public', 'education', 'throughout', 'world', 'produce', 'university', 'professors', 'people', 'come', 'top', 'used', 'one', 'laughter', 'like', 'university', 'professors', 'know', 'hold', 'high', 'water', 'mark', 'human', 'achievement', 'form', 'life', 'another', 'form', 'life', 'rather', 'curious', 'say', 'affection', 'something', 'curious', 'professors', 'experience', 'typically', 'live', 'heads', 'live', 'slightly', 'one', 'side', 'disembodied', 'know', 'kind', 'literal', 'way', 'look', 'upon', 'body', 'form', 'transport', 'heads', 'laughter', 'way', 'getting', 'head', 'meetings', 'laughter', 'want', 'real', 'evidence', 'body', 'experiences', 'get', 'along', 'residential', 'conference', 'senior', 'academics', 'pop', 'discotheque', 'final', 'night', 'laughter', 'see', 'grown', 'men', 'women', 'writhing', 'uncontrollably', 'beat', 'laughter', 'waiting', 'ends', 'go', 'home', 'write', 'paper', 'laughter', 'education', 'system', 'predicated', 'idea', 'academic', 'ability', 'reason', 'around', 'world', 'public', 'systems', 'education', 'really', '19th', 'century', 'came', 'meet', 'needs', 'industrialism', 'hierarchy', 'rooted', 'two', 'ideas', 'number', 'one', 'useful', 'subjects', 'work', 'top', 'probably', 'steered', 'benignly', 'away', 'things', 'school', 'kid', 'things', 'liked', 'grounds', 'would', 'never', 'get', 'job', 'right', 'music', 'going', 'musician', 'art', 'artist', 'benign', 'advice', 'profoundly', 'mistaken', 'whole', 'world', 'engulfed', 'revolution', 'second', 'academic', 'ability', 'really', 'come', 'dominate', 'view', 'intelligence', 'universities', 'designed', 'system', 'image', 'think', 'whole', 'system', 'public', 'education', 'around', 'world', 'protracted', 'process', 'university', 'entrance', 'consequence', 'many', 'highly', 'talented', 'brilliant', 'creative', 'people', 'think', 'thing', 'good', 'school', 'valued', 'actually', 'stigmatized', 'think', 'afford', 'go', 'way', 'next', 'thirty', 'years', 'according', 'unesco', 'people', 'worldwide', 'graduating', 'education', 'since', 'beginning', 'history', 'people', 'combination', 'things', 'talked', 'technology', 'transformation', 'effect', 'work', 'demography', 'huge', 'explosion', 'population', 'suddenly', 'degrees', 'worth', 'anything', 'true', 'student', 'degree', 'job', 'job', 'want', 'one', 'want', 'one', 'frankly', 'laughter', 'kids', 'degrees', 'often', 'heading', 'home', 'carry', 'playing', 'video', 'games', 'need', 'previous', 'job', 'required', 'ba', 'need', 'phd', 'process', 'academic', 'inflation', 'indicates', 'whole', 'structure', 'education', 'shifting', 'beneath', 'feet', 'need', 'radically', 'rethink', 'view', 'intelligence', 'know', 'three', 'things', 'intelligence', 'one', 'diverse', 'think', 'world', 'ways', 'experience', 'think', 'visually', 'think', 'sound', 'think', 'kinesthetically', 'think', 'abstract', 'terms', 'think', 'movement', 'secondly', 'intelligence', 'dynamic', 'look', 'interactions', 'human', 'brain', 'heard', 'yesterday', 'number', 'presentations', 'intelligence', 'wonderfully', 'interactive', 'brain', 'divided', 'compartments', 'fact', 'creativity', 'define', 'process', 'original', 'ideas', 'value', 'often', 'comes', 'interaction', 'different', 'disciplinary', 'ways', 'seeing', 'things', 'way', 'shaft', 'nerves', 'joins', 'two', 'halves', 'brain', 'called', 'corpus', 'callosum', 'thicker', 'women', 'following', 'helen', 'yesterday', 'probably', 'women', 'better', 'multi', 'tasking', 'raft', 'research', 'know', 'personal', 'life', 'wife', 'cooking', 'meal', 'home', 'often', 'thankfully', 'laughter', 'good', 'things', 'cooking', 'dealing', 'people', 'phone', 'talking', 'kids', 'painting', 'ceiling', 'open', 'heart', 'surgery', 'cooking', 'door', 'shut', 'kids', 'phone', 'hook', 'comes', 'get', 'annoyed', 'say', 'terry', 'please', 'trying', 'fry', 'egg', 'laughter', 'give', 'break', 'laughter', 'actually', 'know', 'old', 'philosophical', 'thing', 'tree', 'falls', 'forest', 'nobody', 'hears', 'happen', 'remember', 'old', 'chestnut', 'saw', 'great', 'shirt', 'recently', 'said', 'man', 'speaks', 'mind', 'forest', 'woman', 'hears', 'still', 'wrong', 'laughter', 'third', 'thing', 'intelligence', 'distinct', 'new', 'book', 'moment', 'called', 'epiphany', 'based', 'series', 'interviews', 'people', 'discovered', 'talent', 'fascinated', 'people', 'got', 'really', 'prompted', 'conversation', 'wonderful', 'woman', 'maybe', 'people', 'never', 'heard', 'gillian', 'lynne', 'heard', 'choreographer', 'everybody', 'knows', 'work', 'cats', 'phantom', 'opera', 'wonderful', 'used', 'board', 'royal', 'ballet', 'see', 'anyway', 'gillian', 'lunch', 'one', 'day', 'said', 'get', 'dancer', 'interesting', 'school', 'really', 'hopeless', 'school', '30s', 'wrote', 'parents', 'said', 'think', 'gillian', 'learning', 'disorder', 'concentrate', 'fidgeting', 'think', 'say', 'adhd', '1930s', 'adhd', 'invented', 'point', 'available', 'condition', 'laughter', 'people', 'aware', 'could', 'laughter', 'anyway', 'went', 'see', 'specialist', 'oak', 'paneled', 'room', 'mother', 'led', 'sat', 'chair', 'end', 'sat', 'hands', 'twenty', 'minutes', 'man', 'talked', 'mother', 'problems', 'gillian', 'school', 'disturbing', 'people', 'homework', 'always', 'late', 'little', 'kid', 'eight', 'end', 'doctor', 'went', 'sat', 'next', 'gillian', 'said', 'listened', 'things', 'mother', 'told', 'need', 'speak', 'privately', 'wait', 'back', 'long', 'went', 'left', 'went', 'room', 'turned', 'radio', 'sitting', 'desk', 'got', 'said', 'mother', 'stand', 'watch', 'minute', 'left', 'room', 'feet', 'moving', 'music', 'watched', 'minutes', 'turned', 'mother', 'said', 'mrs', 'lynne', 'gillian', 'sick', 'dancer', 'take', 'dance', 'school', 'said', 'happened', 'said', 'tell', 'wonderful', 'walked', 'room', 'full', 'people', 'like', 'people', 'sit', 'still', 'people', 'move', 'think', 'move', 'think', 'ballet', 'tap', 'jazz', 'modern', 'contemporary', 'eventually', 'auditioned', 'royal', 'ballet', 'school', 'became', 'soloist', 'wonderful', 'career', 'royal', 'ballet', 'eventually', 'graduated', 'royal', 'ballet', 'school', 'founded', 'gillian', 'lynne', 'dance', 'company', 'met', 'andrew', 'lloyd', 'webber', 'responsible', 'successful', 'musical', 'theater', 'productions', 'history', 'given', 'pleasure', 'millions', 'multi', 'millionaire', 'somebody', 'else', 'might', 'put', 'medication', 'told', 'calm', 'applause', 'think', 'comes', 'al', 'gore', 'spoke', 'night', 'ecology', 'revolution', 'triggered', 'rachel', 'carson', 'believe', 'hope', 'future', 'adopt', 'new', 'conception', 'human', 'ecology', 'one', 'start', 'reconstitute', 'conception', 'richness', 'human', 'capacity', 'education', 'system', 'mined', 'minds', 'way', 'strip', 'mine', 'earth', 'particular', 'commodity', 'future', 'serve', 'us', 'rethink', 'fundamental', 'principles', 'educating', 'children', 'wonderful', 'quote', 'jonas', 'salk', 'said', 'insects', 'disappear', 'earth', 'within', 'fifty', 'years', 'life', 'earth', 'would', 'end', 'human', 'beings', 'disappeared', 'earth', 'within', 'fifty', 'years', 'forms', 'life', 'would', 'flourish', 'right', 'ted', 'celebrates', 'gift', 'human', 'imagination', 'careful', 'use', 'gift', 'wisely', 'avert', 'scenarios', 'talked', 'way', 'seeing', 'creative', 'capacities', 'richness', 'seeing', 'children', 'hope', 'task', 'educate', 'whole', 'face', 'future', 'way', 'may', 'see', 'future', 'job', 'help', 'make', 'something', 'thank', 'much', 'applause']\n"
     ]
    }
   ],
   "source": [
    "print(normalize(sample_word_tokens))"
   ]
  },
  {
   "cell_type": "code",
   "execution_count": 21,
   "metadata": {},
   "outputs": [],
   "source": [
    "df['normalize_tokens'] = df.word_tokens.apply(lambda x: normalize(x))"
   ]
  },
  {
   "cell_type": "code",
   "execution_count": 28,
   "metadata": {},
   "outputs": [],
   "source": [
    "import collections"
   ]
  },
  {
   "cell_type": "code",
   "execution_count": 31,
   "metadata": {
    "scrolled": true
   },
   "outputs": [
    {
     "data": {
      "text/plain": [
       "[('laughter', 39),\n",
       " ('think', 26),\n",
       " ('education', 22),\n",
       " ('said', 22),\n",
       " ('people', 16),\n",
       " ('one', 14),\n",
       " ('know', 11),\n",
       " ('say', 10),\n",
       " ('things', 10),\n",
       " ('want', 9),\n",
       " ('like', 9),\n",
       " ('school', 9),\n",
       " ('way', 9),\n",
       " ('children', 8),\n",
       " ('really', 8),\n",
       " ('whole', 7),\n",
       " ('human', 7),\n",
       " ('world', 7),\n",
       " ('kids', 7),\n",
       " ('went', 7),\n",
       " ('come', 7),\n",
       " ('wrong', 7),\n",
       " ('system', 7),\n",
       " ('gillian', 7),\n",
       " ('thing', 6),\n",
       " ('future', 6),\n",
       " ('actually', 6),\n",
       " ('work', 6),\n",
       " ('never', 6),\n",
       " ('get', 6)]"
      ]
     },
     "execution_count": 31,
     "metadata": {},
     "output_type": "execute_result"
    }
   ],
   "source": [
    "collections.Counter(df.normalize_tokens[0]).most_common(30)"
   ]
  },
  {
   "cell_type": "markdown",
   "metadata": {},
   "source": [
    "### Step 3: Lemmatization"
   ]
  },
  {
   "cell_type": "markdown",
   "metadata": {},
   "source": [
    "* Lemmatization is the process of looking up a single word form from the variety of morphologic affixes that can be applied to indicate tense, plurality, gender, etc. First we need to identify the WordNet tag form based on the Penn Treebank tag, which is returned from NLTK’s standard pos_tag function. We simply look to see if the Penn tag starts with ‘N’, ‘V’, ‘R’, or ‘J’ and can correctly identify if its a noun, verb, adverb, or adjective. We then use the new tag to look up the lemma in the lexicon."
   ]
  },
  {
   "cell_type": "code",
   "execution_count": 32,
   "metadata": {},
   "outputs": [],
   "source": [
    "# WordNetLemmatizer looks up data from the WordNet lexicon.\n",
    "lemmatizer = nltk.WordNetLemmatizer()"
   ]
  },
  {
   "cell_type": "code",
   "execution_count": 36,
   "metadata": {},
   "outputs": [],
   "source": [
    "wn= nltk.corpus.wordnet"
   ]
  },
  {
   "cell_type": "code",
   "execution_count": 38,
   "metadata": {},
   "outputs": [],
   "source": [
    "# run test function for first record\n",
    "lemma_list=[]\n",
    "for token, tag in nltk.pos_tag(df.normalize_tokens[0]):\n",
    "    tag = {\n",
    "            'N': wn.NOUN,\n",
    "            'V': wn.VERB,\n",
    "            'R': wn.ADV,\n",
    "            'J': wn.ADJ\n",
    "        }.get(tag[0], wn.NOUN)\n",
    "    lemma = lemmatizer.lemmatize(token, pos=tag)\n",
    "    lemma_list.append(lemma)\n"
   ]
  },
  {
   "cell_type": "code",
   "execution_count": 43,
   "metadata": {},
   "outputs": [
    {
     "data": {
      "text/plain": [
       "[('laughter', 39),\n",
       " ('say', 32),\n",
       " ('think', 27),\n",
       " ('education', 22),\n",
       " ('thing', 16),\n",
       " ('people', 16),\n",
       " ('go', 15),\n",
       " ('one', 14),\n",
       " ('know', 14),\n",
       " ('get', 12),\n",
       " ('come', 12),\n",
       " ('way', 11),\n",
       " ('school', 10),\n",
       " ('want', 9),\n",
       " ('see', 9),\n",
       " ('like', 9),\n",
       " ('child', 9),\n",
       " ('kid', 9),\n",
       " ('system', 9),\n",
       " ('talk', 8),\n",
       " ('year', 8),\n",
       " ('really', 8),\n",
       " ('whole', 7),\n",
       " ('human', 7),\n",
       " ('world', 7),\n",
       " ('wrong', 7),\n",
       " ('gillian', 7),\n",
       " ('future', 6),\n",
       " ('actually', 6),\n",
       " ('work', 6)]"
      ]
     },
     "execution_count": 43,
     "metadata": {},
     "output_type": "execute_result"
    }
   ],
   "source": [
    "# check the result\n",
    "collections.Counter(lemma_list).most_common(30)"
   ]
  },
  {
   "cell_type": "code",
   "execution_count": 46,
   "metadata": {},
   "outputs": [],
   "source": [
    "# wrap-up into function and apply to entire data\n",
    "def lemmantize_tokens(list_of_tokens):\n",
    "    lemma_list=[]\n",
    "    for token, tag in nltk.pos_tag(list_of_tokens):\n",
    "        tag = {\n",
    "                'N': wn.NOUN,\n",
    "                'V': wn.VERB,\n",
    "                'R': wn.ADV,\n",
    "                'J': wn.ADJ\n",
    "            }.get(tag[0], wn.NOUN)\n",
    "        lemma = lemmatizer.lemmatize(token, pos=tag)\n",
    "        lemma_list.append(lemma)\n",
    "    return lemma_list\n",
    "    "
   ]
  },
  {
   "cell_type": "code",
   "execution_count": 47,
   "metadata": {},
   "outputs": [],
   "source": [
    "df[\"lemmatized_tokens\"] = df.normalize_tokens.apply(lambda x : lemmantize_tokens(x))"
   ]
  },
  {
   "cell_type": "code",
   "execution_count": null,
   "metadata": {},
   "outputs": [],
   "source": []
  }
 ],
 "metadata": {
  "kernelspec": {
   "display_name": "Python 3",
   "language": "python",
   "name": "python3"
  },
  "language_info": {
   "codemirror_mode": {
    "name": "ipython",
    "version": 3
   },
   "file_extension": ".py",
   "mimetype": "text/x-python",
   "name": "python",
   "nbconvert_exporter": "python",
   "pygments_lexer": "ipython3",
   "version": "3.7.1"
  }
 },
 "nbformat": 4,
 "nbformat_minor": 2
}
